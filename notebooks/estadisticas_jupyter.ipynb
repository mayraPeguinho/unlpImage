{
 "cells": [
  {
   "cell_type": "code",
   "execution_count": 1,
   "metadata": {},
   "outputs": [],
   "source": [
    "import pandas as pd\n",
    "from matplotlib import pyplot as plt\n",
    "from wordcloud import WordCloud\n",
    "import sys\n",
    "import os\n",
    "sys.path.append(os.path.join(os.getcwd(), '..'))\n",
    "from rutas import archivo_imagenes_etiquetadas_csv\n",
    "from rutas import archivo_logs_csv\n",
    "from rutas import archivo_perfiles_json\n",
    "\n",
    "df_etiq=pd.read_csv(archivo_imagenes_etiquetadas_csv)\n",
    "df_logs=pd.read_csv(archivo_logs_csv)\n",
    "df_json=pd.read_json(archivo_perfiles_json)"
   ]
  },
  {
   "cell_type": "markdown",
   "metadata": {},
   "source": [
    "###Porcentajes según el tipo de imagen (Archivo imagenes_etiquetadas.csv)\n",
    "\n",
    "\n",
    "- Se toma la columna 'mimetype' del dataFrame para obtener la extensión del tipo de imagen.\n",
    "- Aplico el método split('x') para dividir la cadena y asi obtener la extensión.\n",
    "- Realizo un conteo de cada extensión. Se generá una serie  con las extensiones  y sus respectiva   cantidad de ocurrencias.\n",
    "- Almaceno en la variable etiquetas los índices de la serie(extensiones).\n",
    "--Se usa la función plt.pie() para crear el gráfico de Torta.\n",
    "\n"
   ]
  },
  {
   "cell_type": "code",
   "execution_count": null,
   "metadata": {},
   "outputs": [],
   "source": [
    "\n",
    "extensiones = df_etiq['mimetype'].str.split('/').str[1].value_counts()\n",
    "etiquetas = extensiones.index\n",
    "\n",
    "plt.pie(extensiones, labels=etiquetas, autopct='%1.1f%%',\n",
    "        shadow=True, startangle=120, labeldistance=1.1)\n",
    "\n",
    "plt.axis('equal')\n",
    "plt.legend(etiquetas)\n",
    "plt.title(\"Tipos  de imágenes\")\n",
    "\n",
    "plt.show()"
   ]
  },
  {
   "cell_type": "markdown",
   "metadata": {},
   "source": [
    "###Alto y ancho máximos (Archivo imagenes_etiquetadas.csv)\n",
    "\n",
    "- Se toma la columna 'resolucion' del DataFrame para obtener el alto y ancho de las imagenes.\n",
    "- Aplico el método split('x') para dividir la cadena y asi obtener el alto y el ancho de cada imagen.\n",
    "- Se hace la conversión a entero tanto del alto como del ancho y aplico la funcion max para obtener el máximo."
   ]
  },
  {
   "cell_type": "code",
   "execution_count": null,
   "metadata": {},
   "outputs": [],
   "source": [
    "maximo_alto = df_etiq['resolucion'].str.split('x').str[1].astype(int).max()\n",
    "maximo_ancho = df_etiq['resolucion'].str.split('x').str[0].astype(int).max()\n",
    "\n",
    "print(f\"Máximo alto: {maximo_alto}px\")\n",
    "print(f\"Máximo ancho: {maximo_ancho}px\")"
   ]
  },
  {
   "cell_type": "markdown",
   "metadata": {},
   "source": [
    "###Relación entre el alto y ancho de las imágenes (Archivo imagenes_etiquetadas.csv).\n",
    "\n",
    "\n",
    "-Voy a usar los valores de la columna 'resolucion'.\n",
    "\n",
    "-Aplico el método split('x') para dividir la cadena y asi obtener el alto y el ancho de cada imagen. Luego convierto a entero en valor.\n",
    "\n",
    "-Se usa la función plt.scatter() para crear el gráfico de dispersión.\n",
    "\n",
    "-Se establece el ancho como los valores del eje x y el alto para los valores del eje y.\n",
    "\n",
    "-Tambien se establacen las etiquetas para cada eje (alto y ancho)."
   ]
  },
  {
   "cell_type": "code",
   "execution_count": null,
   "metadata": {},
   "outputs": [],
   "source": [
    "ancho = df_etiq['resolucion'].str.split('x').str[0].astype(int)\n",
    "alto = df_etiq['resolucion'].str.split('x').str[1].astype(int)\n",
    "\n",
    "plt.scatter(ancho, alto, c=\"DarkBlue\")\n",
    "plt.xlabel('Ancho')\n",
    "plt.ylabel('Alto')\n",
    "plt.title('Relación entre Ancho y Alto de las imágenes')\n",
    "plt.show()"
   ]
  },
  {
   "cell_type": "markdown",
   "metadata": {},
   "source": [
    "###Cantidad de cambios realizados para cada dia de la semana en base a la úlltima actualización (Archivo imagenes_etiquetadas.csv).\n",
    "\n",
    "\n",
    "-Se trabaja con los datos de la columna 'ultima_actualización'.\n",
    "-Se hace una copia del DataFrame ya que se va modificar.\n",
    "-Se define un diccionario dias que mapea los nombres de los días en inglés a sus correspondientes en español.\n",
    "-con la función pd.to_datetime() convierto el timestamp a un objeto de fecha y hora de pandas.\n",
    "-Se agrega una nueva columna llamada \"dia\" al DataFrame cambios_segun_dia que contiene los nombres de los días en español. Con la funcion dt.day_name() se obtiene el nombre del dia de la semana y luego lo mapea al español con el diccionario definido anteriormente.\n",
    "-Se realiza un conteo para cada día\n",
    "-Para que todos los dias de la semana estén en el gráfico se reindexa la serie con los dias y se rellena los espacios vacios con 0, usando fill_value=0.\n",
    "-En la variable colores se define la lista de colores que tendrá el gráfico.\n",
    "-con plt.bar() creo el gráfico de barras,  con los nombres de los días en el eje x, y los conteos de cambios en el eje y."
   ]
  },
  {
   "cell_type": "code",
   "execution_count": null,
   "metadata": {},
   "outputs": [],
   "source": [
    "cambios_segun_dia = df_etiq.copy()\n",
    "dias = {\n",
    "    \"Monday\": \"Lunes\",\n",
    "    \"Tuesday\": \"Martes\",\n",
    "    \"Wednesday\": \"Miércoles\",\n",
    "    \"Thursday\": \"Jueves\",\n",
    "    \"Friday\": \"Viernes\",\n",
    "    \"Saturday\": \"Sábado\",\n",
    "    \"Sunday\": \"Domingo\"\n",
    "}\n",
    "cambios_segun_dia[\"ultima_actualizacion\"] = pd.to_datetime(df_etiq[\"ultima_actualizacion\"])\n",
    "cambios_segun_dia[\"dia\"]= cambios_segun_dia[\"ultima_actualizacion\"].dt.day_name().map(dias)\n",
    "conteo_dias= cambios_segun_dia[\"dia\"].value_counts()\n",
    "\n",
    "dias_semana = list(dias.values())\n",
    "conteo_dias = conteo_dias.reindex(dias_semana, fill_value=0)\n",
    "\n",
    "colores = [\"green\",\"purple\",\"blue\",\"yellow\",\"red\", \"black\", \"orange\"]\n",
    "plt.bar(conteo_dias.index, conteo_dias.values, color=colores)\n",
    "plt.xlabel('Día de la semana')\n",
    "plt.ylabel('Cambios')\n",
    "plt.title('Cantidad de cambios realizados por día de la semana')\n",
    "plt.show()"
   ]
  },
  {
   "cell_type": "markdown",
   "metadata": {},
   "source": [
    "#Inciso 5 de archivo imagenes etiquetadas\n",
    "\n",
    "Crear un gráfico de líneas para visualizar la evolución de la cantidad de\n",
    "actualizaciones a lo largo del tiempo:\n"
   ]
  },
  {
   "cell_type": "code",
   "execution_count": null,
   "metadata": {},
   "outputs": [],
   "source": [
    "#Mi código va acá (Eze)\n",
    "\n",
    "\n",
    "# Convertir la columna 'ultima_actualizacion' en formato de fecha y hora\n",
    "df_etiq['ultima_actualizacion'] = pd.to_datetime(df_etiq['ultima_actualizacion'])\n",
    "\n",
    "\n",
    "\n",
    "# Crear el gráfico de líneas\n",
    "plt.plot(df_etiq['ultima_actualizacion'], range(len(df_etiq)), marker='o')\n",
    "\n",
    "# Configurar los ejes y el título\n",
    "plt.xlabel('Fecha de actualización')\n",
    "plt.ylabel('Cantidad de actualizaciones')\n",
    "plt.title('Evolución de actualizaciones a lo largo del tiempo')\n",
    "\n",
    "# Rotar las etiquetas del eje x para una mejor visualización\n",
    "plt.xticks(rotation=45)\n",
    "\n",
    "# Mostrar el gráfico\n",
    "plt.show()\n",
    "\n"
   ]
  },
  {
   "cell_type": "markdown",
   "metadata": {},
   "source": [
    "#Inciso 6 de archivo de imagenes etiquetadas\n",
    "\n",
    "Nube de palabras en base a la lista de tags:\n"
   ]
  },
  {
   "cell_type": "code",
   "execution_count": null,
   "metadata": {},
   "outputs": [],
   "source": [
    "tags = df_etiq['tags'].dropna().values\n",
    "#organizo los tags para poder tratarlos\n",
    "tags_string = ', '.join(tags)\n",
    "\n",
    "#Creo el objeto WordCloud y genero la nube de palabras\n",
    "wordcloud = WordCloud(width=800, height=400, background_color='white').generate(tags_string)\n",
    "\n",
    "# Muestro la nube de palabras\n",
    "plt.figure(figsize=(10, 6))\n",
    "plt.imshow(wordcloud, interpolation='bilinear')\n",
    "plt.axis('off')\n",
    "plt.show()\n"
   ]
  },
  {
   "cell_type": "markdown",
   "metadata": {},
   "source": [
    "#Inciso 7 de archivo de imagenes etiquetadas\n",
    "\n",
    "Tags más utilizados\n",
    "\n",
    "- Se hace una copia del DataFrame obtenido del archivo de imagenes etiquetadas, ya que va a ser modificado.\n",
    "- Se aplica el método str.split(',') a la columna 'tags' del DataFrame para dividir la cadena de tags de cada imagen.\n",
    "- Luego nos quedamos con sola la columna 'tags' del DataFrame, se le aplica el metodo explode() para separar cada uno de los tags en una fila diferente y lo devuelve en una serie, se aplica el método strip(' ') para eliminar espacios que esten demas.\n",
    "- Se aplica el método value_counts() para contabalizar cada uno de los tags, retorna una serie con cada tag y la cantidad de veces que apareció.\n",
    "- Se aplica la función reset_index(name=\"Usos\") para convertir la serie en un DataFrame y que se visualice de mejor manera.\n",
    "- Por ultimo se cambió el nombre de la columna 'tags' por 'Tags' con la funcion rename."
   ]
  },
  {
   "cell_type": "code",
   "execution_count": null,
   "metadata": {},
   "outputs": [],
   "source": [
    "df_7=df_etiq.copy()\n",
    "\n",
    "df_7['tags']=df_7['tags'].str.split(',')\n",
    "df_7=df_7['tags'].explode().str.strip(' ').value_counts().reset_index(name=\"Usos\")\n",
    "df_7=df_7.rename(columns={'tags': 'Tags'})\n",
    "\n",
    "print(\"Tags más utilizados\")\n",
    "df_7"
   ]
  },
  {
   "cell_type": "markdown",
   "metadata": {},
   "source": [
    "#Inciso 8 de archivo de imagenes etiquetadas\n",
    "    Imagenes promedio\n",
    "\n",
    "- Se trae el DataFrame obtenido del archivo de imagenes etiquetadas con el nombre de la columna 'ultimo_perfil' modificado a 'Usuario'. Esto para poder realizar el merge\n",
    "- Se hace un merge con el DataFrame ya mencionado y el DataFrame del archivo json de perfiles con la modalidad \"outer\" para incluir aquellos usuarios que no hayan modificado imagenes.\n",
    "- Se le aplica la funcion groupby() para agrupar por Usuario, y a la columna tamaño le aplico la funcion mean() para sacar los promedio de los tamaños para cada usuario, con fillna(0) le agrego un 0 a aquellos usuarios que nunca hayan modificado una imagen y con round(2) solo muestro dos decimales de esta columna.\n",
    "- Como nos retorna una serie, se le aplica reset_index() para volver a la estructura DataFrame."
   ]
  },
  {
   "cell_type": "code",
   "execution_count": null,
   "metadata": {},
   "outputs": [],
   "source": [
    "df_8=df_etiq.rename(columns={'ultimo_perfil': 'Usuario'})\n",
    "\n",
    "outer_join=pd.merge(df_8,df_json,on=\"Usuario\",how=\"outer\")\n",
    "tabla_final=outer_join.groupby(outer_join[\"Usuario\"])[\"tamaño\"].mean().fillna(0).round(2).reset_index(name=\"Tamaño (MB)\")\n",
    "\n",
    "print('Imagenes promedio')\n",
    "tabla_final"
   ]
  },
  {
   "cell_type": "markdown",
   "metadata": {},
   "source": [
    "#Inciso 1, archivo logs\n",
    "\n",
    "Operaciones por dias de la semana\n",
    "\n",
    "- Se crea un DataFrame con cada uno de los dias de la semana representados como enteros, siendo 0 el lunes. Esto se hace para que en el caso de en un dia de la semana no haya habido usos de la aplicacion, aun asi se contabilice.\n",
    "- Se crea una copia del DataFrame del archivo de logs ya que se va a modificar.\n",
    "- A esta copia se le agrega la columna 'Dia', en la cual se va a almacenar el resultado de aplicarle la funcion datetime.fromtimestamp() a cada uno de los contenidos de la columna\n",
    "'Fecha y Hora' que tiene almacenada el mymetype de cuando se ejecutó la acción. Esto va a retornar la fecha.\n",
    "- Luego con el metodo groupby() y pasandole como parametro df_logs1['Dia'].dt.day_of_week, agrupo cada dia de la semana correspondiente a cada fecha y aplicando size() obtengo una serie que muestra el tamaño de cada dia.\n",
    "- Como luego se hará un merge(), la serie necesita ser nombrada, se hace con df_logs1.name=\n",
    "- Luego se hace el merge del dataframe creado al principio y de la serie resultante, con la modalidad \"outer\" y sobre \"Dia\" para que incluya aquellos dias en los que no se haya usado la aplicacion.\n",
    "- A la columna 'Cantidad' se le aplica la funcion fillna(0) para que llene aquellos lugares Na, con 0, y astype(int) para convertir los numeros a integer, retorna una serie.\n",
    "- Se cambian los indices de la serie por los nombres de los dias de la semana.\n",
    "- Se establecen los colores que se mostraran para cada grafico de barra.\n",
    "- Luego se arma el grafico con la serie y se establece el titulo y los nombres de los ejes."
   ]
  },
  {
   "cell_type": "code",
   "execution_count": 29,
   "metadata": {},
   "outputs": [
    {
     "data": {
      "image/png": "[encoded data removed]",
      "text/plain": [
       "<Figure size 640x480 with 1 Axes>"
      ]
     },
     "metadata": {},
     "output_type": "display_data"
    }
   ],
   "source": [
    "from datetime import datetime\n",
    "df_dias =pd.DataFrame({'Dia': [0, 1, 2, 3, 4, 5, 6]})\n",
    "\n",
    "df_logs1=df_logs.copy()\n",
    "df_logs1['Dia']=df_logs1['Fecha y Hora'].apply(lambda x: datetime.fromtimestamp(x))\n",
    "df_logs1=df_logs1.groupby(df_logs1['Dia'].dt.day_of_week).size()\n",
    "df_logs1.name='Cantidad'\n",
    "\n",
    "outer_join=pd.merge(df_dias,df_logs1,on='Dia',how=\"outer\")\n",
    "outer_join=outer_join['Cantidad'].fillna(0).astype(int)\n",
    "\n",
    "outer_join.index=['Lunes','Martes','Miércoles','Jueves','Viernes','Sábado','Domingo']\n",
    "\n",
    "colores = ['red', 'green', 'skyblue', 'pink', 'gray', 'yellow', 'brown']\n",
    "outer_join.plot.bar(color=colores)\n",
    "plt.title('Operaciones por dias de la semana')\n",
    "plt.xlabel('Dia de la semana')\n",
    "plt.ylabel('Operaciones')\n",
    "plt.show()"
   ]
  },
  {
   "cell_type": "markdown",
   "metadata": {},
   "source": [
    "#Inciso 2, archivo logs\n",
    "\n",
    "Uso de la aplicación por género\n",
    "\n",
    "- Se hace una copia del DatFrame del archivo de logs, y se le cambia el nombre a la columna 'Nick' por 'Usuario'\n",
    "- Se hace un merge con el DataFrame del json de usuarios y el DataFrame obtenido anteriormente, por la columna \"Usuario\" y del modo \"inner\" para que solo tenga en cuenta aquellos usuarios que si realizaron cambios en la aplicacion.\n",
    "- Luego se los agrupa por genero y se aplica la funcion count() que devuelve la cantidad de operaciones por genero en una serie.\n",
    "- Luego armamos el grafico de torta con matplotlib y la serie usando los indices para la legenda, y lo almacenado en cada indice para la torta en si."
   ]
  },
  {
   "cell_type": "code",
   "execution_count": 28,
   "metadata": {},
   "outputs": [
    {
     "data": {
      "image/png": "[encoded data removed]",
      "text/plain": [
       "<Figure size 640x480 with 1 Axes>"
      ]
     },
     "metadata": {},
     "output_type": "display_data"
    }
   ],
   "source": [
    "df_logs2=df_logs.copy().rename(columns={'Nick': 'Usuario'})\n",
    "inner_join=pd.merge(df_logs2,df_json,on=\"Usuario\",how=\"inner\")\n",
    "serie=inner_join.groupby(inner_join[\"Genero\"])[\"Genero\"].count()\n",
    "\n",
    "plt.pie(serie,autopct='%1.1f%%',startangle=120, labeldistance=1.1)\n",
    "plt.axis('equal')\n",
    "plt.legend(serie.index)\n",
    "plt.title(\"Uso de aplicación por género\")\n",
    "plt.show()"
   ]
  },
  {
   "cell_type": "markdown",
   "metadata": {},
   "source": [
    "#Inciso 3, archivo logs\n",
    "\n",
    "● Generar un gráfico que refleje las cantidades de cada operación realizada.\n"
   ]
  },
  {
   "cell_type": "code",
   "execution_count": null,
   "metadata": {},
   "outputs": [],
   "source": [
    "#Mí codigo va acá (Eze)\n",
    "operaciones_counts = df_logs['Operación'].value_counts()\n",
    "\n",
    "# Crear el gráfico de barras\n",
    "operaciones_counts.plot(kind='bar')\n",
    "\n",
    "# Configurar los ejes y el título\n",
    "plt.xlabel('Operación')\n",
    "plt.ylabel('Cantidad')\n",
    "plt.title('Cantidad de cada tipo de operación')\n",
    "\n",
    "# Mostrar el gráfico\n",
    "plt.show()"
   ]
  },
  {
   "cell_type": "markdown",
   "metadata": {},
   "source": [
    "#Inciso 4, archivo logs\n",
    "Generar un gráfico de barra apilado que muestre las cantidades de operaciones por\n",
    "nick.\n"
   ]
  },
  {
   "cell_type": "code",
   "execution_count": null,
   "metadata": {},
   "outputs": [],
   "source": [
    "#Mi código va acá (Eze)\n",
    "operaciones_por_nick = df_logs.groupby('Nick')['Operación'].value_counts().unstack()\n",
    "\n",
    "# Crear el gráfico de barras apilado\n",
    "operaciones_por_nick.plot(kind='bar', stacked=True)\n",
    "\n",
    "# Configurar los ejes y el título\n",
    "plt.xlabel('Usuario')\n",
    "plt.ylabel('Cantidad')\n",
    "plt.title('Cantidad de operaciones por Usuarios')\n",
    "\n",
    "# Mostrar el gráfico\n",
    "plt.show()"
   ]
  },
  {
   "cell_type": "markdown",
   "metadata": {},
   "source": [
    "### Inciso 5 archivo logs\n",
    "\n"
   ]
  },
  {
   "cell_type": "code",
   "execution_count": 2,
   "metadata": {},
   "outputs": [
    {
     "name": "stdout",
     "output_type": "stream",
     "text": [
      "Imagenes usadas para memes\n"
     ]
    },
    {
     "data": {
      "text/html": [
       "<div>\n",
       "<style scoped>\n",
       "    .dataframe tbody tr th:only-of-type {\n",
       "        vertical-align: middle;\n",
       "    }\n",
       "\n",
       "    .dataframe tbody tr th {\n",
       "        vertical-align: top;\n",
       "    }\n",
       "\n",
       "    .dataframe thead th {\n",
       "        text-align: right;\n",
       "    }\n",
       "</style>\n",
       "<table border=\"1\" class=\"dataframe\">\n",
       "  <thead>\n",
       "    <tr style=\"text-align: right;\">\n",
       "      <th></th>\n",
       "      <th>Imagenes</th>\n",
       "      <th>Veces usada</th>\n",
       "    </tr>\n",
       "  </thead>\n",
       "  <tbody>\n",
       "    <tr>\n",
       "      <th>0</th>\n",
       "      <td>todo-bien.jpg</td>\n",
       "      <td>6</td>\n",
       "    </tr>\n",
       "    <tr>\n",
       "      <th>1</th>\n",
       "      <td>Queclaseesesta.jpg</td>\n",
       "      <td>3</td>\n",
       "    </tr>\n",
       "    <tr>\n",
       "      <th>2</th>\n",
       "      <td>&lt;PIL.Image.Image image mode=RGB size=480x601 a...</td>\n",
       "      <td>2</td>\n",
       "    </tr>\n",
       "    <tr>\n",
       "      <th>3</th>\n",
       "      <td>Estosi_estono.jpg</td>\n",
       "      <td>2</td>\n",
       "    </tr>\n",
       "    <tr>\n",
       "      <th>4</th>\n",
       "      <td>siguiente-salida.jpg</td>\n",
       "      <td>2</td>\n",
       "    </tr>\n",
       "  </tbody>\n",
       "</table>\n",
       "</div>"
      ],
      "text/plain": [
       "                                            Imagenes  Veces usada\n",
       "0                                      todo-bien.jpg            6\n",
       "1                                 Queclaseesesta.jpg            3\n",
       "2  <PIL.Image.Image image mode=RGB size=480x601 a...            2\n",
       "3                                  Estosi_estono.jpg            2\n",
       "4                               siguiente-salida.jpg            2"
      ]
     },
     "execution_count": 2,
     "metadata": {},
     "output_type": "execute_result"
    }
   ],
   "source": [
    "df_ranking = df_logs.copy()\n",
    "\n",
    "memes_mas_usados = df_ranking.loc[(df_ranking[\"Operación\"] == 'Generacion meme')]\n",
    "\n",
    "memes_mas_usados = memes_mas_usados.rename(columns={'Valores': 'Imagenes'})\n",
    "\n",
    "memes_mas_usados = memes_mas_usados.groupby('Imagenes').size().sort_values(ascending=False).reset_index(name='Veces usada').head(5)\n",
    "\n",
    "print('Imagenes usadas para memes')\n",
    "memes_mas_usados\n"
   ]
  },
  {
   "cell_type": "code",
   "execution_count": 4,
   "metadata": {},
   "outputs": [
    {
     "name": "stdout",
     "output_type": "stream",
     "text": [
      "Imagenes mas usadas para collage\n"
     ]
    },
    {
     "data": {
      "text/html": [
       "<div>\n",
       "<style scoped>\n",
       "    .dataframe tbody tr th:only-of-type {\n",
       "        vertical-align: middle;\n",
       "    }\n",
       "\n",
       "    .dataframe tbody tr th {\n",
       "        vertical-align: top;\n",
       "    }\n",
       "\n",
       "    .dataframe thead th {\n",
       "        text-align: right;\n",
       "    }\n",
       "</style>\n",
       "<table border=\"1\" class=\"dataframe\">\n",
       "  <thead>\n",
       "    <tr style=\"text-align: right;\">\n",
       "      <th></th>\n",
       "      <th>Imagenes</th>\n",
       "      <th>Veces usada</th>\n",
       "    </tr>\n",
       "  </thead>\n",
       "  <tbody>\n",
       "    <tr>\n",
       "      <th>0</th>\n",
       "      <td>Estosi_estono.jpg;strawberry-g0ffa2143b_1920.jpg</td>\n",
       "      <td>1</td>\n",
       "    </tr>\n",
       "    <tr>\n",
       "      <th>1</th>\n",
       "      <td>img7.jpg;blueberries-g908c57b3c_1920.jpg</td>\n",
       "      <td>1</td>\n",
       "    </tr>\n",
       "    <tr>\n",
       "      <th>2</th>\n",
       "      <td>strawberry-g0ffa2143b_1920.jpg;Estosi_estono.jpg</td>\n",
       "      <td>1</td>\n",
       "    </tr>\n",
       "    <tr>\n",
       "      <th>3</th>\n",
       "      <td>strawberry-g0ffa2143b_1920.jpg;img7.jpg</td>\n",
       "      <td>1</td>\n",
       "    </tr>\n",
       "    <tr>\n",
       "      <th>4</th>\n",
       "      <td>strawberry-g0ffa2143b_1920.jpg;strawberry-g0ff...</td>\n",
       "      <td>1</td>\n",
       "    </tr>\n",
       "  </tbody>\n",
       "</table>\n",
       "</div>"
      ],
      "text/plain": [
       "                                            Imagenes  Veces usada\n",
       "0   Estosi_estono.jpg;strawberry-g0ffa2143b_1920.jpg            1\n",
       "1           img7.jpg;blueberries-g908c57b3c_1920.jpg            1\n",
       "2   strawberry-g0ffa2143b_1920.jpg;Estosi_estono.jpg            1\n",
       "3            strawberry-g0ffa2143b_1920.jpg;img7.jpg            1\n",
       "4  strawberry-g0ffa2143b_1920.jpg;strawberry-g0ff...            1"
      ]
     },
     "execution_count": 4,
     "metadata": {},
     "output_type": "execute_result"
    }
   ],
   "source": [
    "df_ranking = df_logs.copy()\n",
    "\n",
    "collage_mas_usados = df_ranking.loc[(df_ranking[\"Operación\"] == 'Generación de collage')]\n",
    "\n",
    "collage_mas_usados = collage_mas_usados.rename(columns={'Valores': 'Imagenes'})\n",
    "\n",
    "collage_mas_usados = collage_mas_usados.groupby('Imagenes').size().sort_values(ascending=False).reset_index(name='Veces usada').head(5)\n",
    "\n",
    "print('Imagenes mas usadas para collage')\n",
    "collage_mas_usados"
   ]
  },
  {
   "cell_type": "markdown",
   "metadata": {},
   "source": [
    "### Inciso 6 archivo logs"
   ]
  },
  {
   "cell_type": "code",
   "execution_count": 17,
   "metadata": {},
   "outputs": [
    {
     "ename": "ValueError",
     "evalue": "Only supported for TrueType fonts",
     "output_type": "error",
     "traceback": [
      "\u001b[0;31m---------------------------------------------------------------------------\u001b[0m",
      "\u001b[0;31mValueError\u001b[0m                                Traceback (most recent call last)",
      "Cell \u001b[0;32mIn[17], line 20\u001b[0m\n\u001b[1;32m     16\u001b[0m     plt\u001b[38;5;241m.\u001b[39maxis(\u001b[38;5;124m\"\u001b[39m\u001b[38;5;124moff\u001b[39m\u001b[38;5;124m\"\u001b[39m)\n\u001b[1;32m     18\u001b[0m \u001b[38;5;66;03m# Generate wordcloud\u001b[39;00m\n\u001b[1;32m     19\u001b[0m wordcloud \u001b[38;5;241m=\u001b[39m \u001b[43mWordCloud\u001b[49m\u001b[43m(\u001b[49m\u001b[43mwidth\u001b[49m\u001b[43m \u001b[49m\u001b[38;5;241;43m=\u001b[39;49m\u001b[43m \u001b[49m\u001b[38;5;241;43m300\u001b[39;49m\u001b[43m,\u001b[49m\u001b[43m \u001b[49m\u001b[43mheight\u001b[49m\u001b[43m \u001b[49m\u001b[38;5;241;43m=\u001b[39;49m\u001b[43m \u001b[49m\u001b[38;5;241;43m200\u001b[39;49m\u001b[43m,\u001b[49m\u001b[43m \u001b[49m\n\u001b[0;32m---> 20\u001b[0m \u001b[43m                \u001b[49m\u001b[43mbackground_color\u001b[49m\u001b[38;5;241;43m=\u001b[39;49m\u001b[38;5;124;43m'\u001b[39;49m\u001b[38;5;124;43mwhite\u001b[39;49m\u001b[38;5;124;43m'\u001b[39;49m\u001b[43m)\u001b[49m\u001b[38;5;241;43m.\u001b[39;49m\u001b[43mgenerate\u001b[49m\u001b[43m(\u001b[49m\u001b[43mlista_textos\u001b[49m\u001b[43m)\u001b[49m\n\u001b[1;32m     21\u001b[0m \u001b[38;5;66;03m# Plot\u001b[39;00m\n\u001b[1;32m     22\u001b[0m plot_cloud(wordcloud)\n",
      "File \u001b[0;32m~/.local/lib/python3.10/site-packages/wordcloud/wordcloud.py:639\u001b[0m, in \u001b[0;36mWordCloud.generate\u001b[0;34m(self, text)\u001b[0m\n\u001b[1;32m    624\u001b[0m \u001b[38;5;28;01mdef\u001b[39;00m \u001b[38;5;21mgenerate\u001b[39m(\u001b[38;5;28mself\u001b[39m, text):\n\u001b[1;32m    625\u001b[0m \u001b[38;5;250m    \u001b[39m\u001b[38;5;124;03m\"\"\"Generate wordcloud from text.\u001b[39;00m\n\u001b[1;32m    626\u001b[0m \n\u001b[1;32m    627\u001b[0m \u001b[38;5;124;03m    The input \"text\" is expected to be a natural text. If you pass a sorted\u001b[39;00m\n\u001b[0;32m   (...)\u001b[0m\n\u001b[1;32m    637\u001b[0m \u001b[38;5;124;03m    self\u001b[39;00m\n\u001b[1;32m    638\u001b[0m \u001b[38;5;124;03m    \"\"\"\u001b[39;00m\n\u001b[0;32m--> 639\u001b[0m     \u001b[38;5;28;01mreturn\u001b[39;00m \u001b[38;5;28;43mself\u001b[39;49m\u001b[38;5;241;43m.\u001b[39;49m\u001b[43mgenerate_from_text\u001b[49m\u001b[43m(\u001b[49m\u001b[43mtext\u001b[49m\u001b[43m)\u001b[49m\n",
      "File \u001b[0;32m~/.local/lib/python3.10/site-packages/wordcloud/wordcloud.py:621\u001b[0m, in \u001b[0;36mWordCloud.generate_from_text\u001b[0;34m(self, text)\u001b[0m\n\u001b[1;32m    604\u001b[0m \u001b[38;5;250m\u001b[39m\u001b[38;5;124;03m\"\"\"Generate wordcloud from text.\u001b[39;00m\n\u001b[1;32m    605\u001b[0m \n\u001b[1;32m    606\u001b[0m \u001b[38;5;124;03mThe input \"text\" is expected to be a natural text. If you pass a sorted\u001b[39;00m\n\u001b[0;32m   (...)\u001b[0m\n\u001b[1;32m    618\u001b[0m \u001b[38;5;124;03mself\u001b[39;00m\n\u001b[1;32m    619\u001b[0m \u001b[38;5;124;03m\"\"\"\u001b[39;00m\n\u001b[1;32m    620\u001b[0m words \u001b[38;5;241m=\u001b[39m \u001b[38;5;28mself\u001b[39m\u001b[38;5;241m.\u001b[39mprocess_text(text)\n\u001b[0;32m--> 621\u001b[0m \u001b[38;5;28;43mself\u001b[39;49m\u001b[38;5;241;43m.\u001b[39;49m\u001b[43mgenerate_from_frequencies\u001b[49m\u001b[43m(\u001b[49m\u001b[43mwords\u001b[49m\u001b[43m)\u001b[49m\n\u001b[1;32m    622\u001b[0m \u001b[38;5;28;01mreturn\u001b[39;00m \u001b[38;5;28mself\u001b[39m\n",
      "File \u001b[0;32m~/.local/lib/python3.10/site-packages/wordcloud/wordcloud.py:453\u001b[0m, in \u001b[0;36mWordCloud.generate_from_frequencies\u001b[0;34m(self, frequencies, max_font_size)\u001b[0m\n\u001b[1;32m    451\u001b[0m     font_size \u001b[38;5;241m=\u001b[39m \u001b[38;5;28mself\u001b[39m\u001b[38;5;241m.\u001b[39mheight\n\u001b[1;32m    452\u001b[0m \u001b[38;5;28;01melse\u001b[39;00m:\n\u001b[0;32m--> 453\u001b[0m     \u001b[38;5;28;43mself\u001b[39;49m\u001b[38;5;241;43m.\u001b[39;49m\u001b[43mgenerate_from_frequencies\u001b[49m\u001b[43m(\u001b[49m\u001b[38;5;28;43mdict\u001b[39;49m\u001b[43m(\u001b[49m\u001b[43mfrequencies\u001b[49m\u001b[43m[\u001b[49m\u001b[43m:\u001b[49m\u001b[38;5;241;43m2\u001b[39;49m\u001b[43m]\u001b[49m\u001b[43m)\u001b[49m\u001b[43m,\u001b[49m\n\u001b[1;32m    454\u001b[0m \u001b[43m                                   \u001b[49m\u001b[43mmax_font_size\u001b[49m\u001b[38;5;241;43m=\u001b[39;49m\u001b[38;5;28;43mself\u001b[39;49m\u001b[38;5;241;43m.\u001b[39;49m\u001b[43mheight\u001b[49m\u001b[43m)\u001b[49m\n\u001b[1;32m    455\u001b[0m     \u001b[38;5;66;03m# find font sizes\u001b[39;00m\n\u001b[1;32m    456\u001b[0m     sizes \u001b[38;5;241m=\u001b[39m [x[\u001b[38;5;241m1\u001b[39m] \u001b[38;5;28;01mfor\u001b[39;00m x \u001b[38;5;129;01min\u001b[39;00m \u001b[38;5;28mself\u001b[39m\u001b[38;5;241m.\u001b[39mlayout_]\n",
      "File \u001b[0;32m~/.local/lib/python3.10/site-packages/wordcloud/wordcloud.py:508\u001b[0m, in \u001b[0;36mWordCloud.generate_from_frequencies\u001b[0;34m(self, frequencies, max_font_size)\u001b[0m\n\u001b[1;32m    505\u001b[0m transposed_font \u001b[38;5;241m=\u001b[39m ImageFont\u001b[38;5;241m.\u001b[39mTransposedFont(\n\u001b[1;32m    506\u001b[0m     font, orientation\u001b[38;5;241m=\u001b[39morientation)\n\u001b[1;32m    507\u001b[0m \u001b[38;5;66;03m# get size of resulting text\u001b[39;00m\n\u001b[0;32m--> 508\u001b[0m box_size \u001b[38;5;241m=\u001b[39m \u001b[43mdraw\u001b[49m\u001b[38;5;241;43m.\u001b[39;49m\u001b[43mtextbbox\u001b[49m\u001b[43m(\u001b[49m\u001b[43m(\u001b[49m\u001b[38;5;241;43m0\u001b[39;49m\u001b[43m,\u001b[49m\u001b[43m \u001b[49m\u001b[38;5;241;43m0\u001b[39;49m\u001b[43m)\u001b[49m\u001b[43m,\u001b[49m\u001b[43m \u001b[49m\u001b[43mword\u001b[49m\u001b[43m,\u001b[49m\u001b[43m \u001b[49m\u001b[43mfont\u001b[49m\u001b[38;5;241;43m=\u001b[39;49m\u001b[43mtransposed_font\u001b[49m\u001b[43m,\u001b[49m\u001b[43m \u001b[49m\u001b[43manchor\u001b[49m\u001b[38;5;241;43m=\u001b[39;49m\u001b[38;5;124;43m\"\u001b[39;49m\u001b[38;5;124;43mlt\u001b[39;49m\u001b[38;5;124;43m\"\u001b[39;49m\u001b[43m)\u001b[49m\n\u001b[1;32m    509\u001b[0m \u001b[38;5;66;03m# find possible places using integral image:\u001b[39;00m\n\u001b[1;32m    510\u001b[0m result \u001b[38;5;241m=\u001b[39m occupancy\u001b[38;5;241m.\u001b[39msample_position(box_size[\u001b[38;5;241m3\u001b[39m] \u001b[38;5;241m+\u001b[39m \u001b[38;5;28mself\u001b[39m\u001b[38;5;241m.\u001b[39mmargin,\n\u001b[1;32m    511\u001b[0m                                    box_size[\u001b[38;5;241m2\u001b[39m] \u001b[38;5;241m+\u001b[39m \u001b[38;5;28mself\u001b[39m\u001b[38;5;241m.\u001b[39mmargin,\n\u001b[1;32m    512\u001b[0m                                    random_state)\n",
      "File \u001b[0;32m/usr/lib/python3/dist-packages/PIL/ImageDraw.py:671\u001b[0m, in \u001b[0;36mImageDraw.textbbox\u001b[0;34m(self, xy, text, font, anchor, spacing, align, direction, features, language, stroke_width, embedded_color)\u001b[0m\n\u001b[1;32m    669\u001b[0m     font \u001b[38;5;241m=\u001b[39m \u001b[38;5;28mself\u001b[39m\u001b[38;5;241m.\u001b[39mgetfont()\n\u001b[1;32m    670\u001b[0m \u001b[38;5;28;01mif\u001b[39;00m \u001b[38;5;129;01mnot\u001b[39;00m \u001b[38;5;28misinstance\u001b[39m(font, ImageFont\u001b[38;5;241m.\u001b[39mFreeTypeFont):\n\u001b[0;32m--> 671\u001b[0m     \u001b[38;5;28;01mraise\u001b[39;00m \u001b[38;5;167;01mValueError\u001b[39;00m(\u001b[38;5;124m\"\u001b[39m\u001b[38;5;124mOnly supported for TrueType fonts\u001b[39m\u001b[38;5;124m\"\u001b[39m)\n\u001b[1;32m    672\u001b[0m mode \u001b[38;5;241m=\u001b[39m \u001b[38;5;124m\"\u001b[39m\u001b[38;5;124mRGBA\u001b[39m\u001b[38;5;124m\"\u001b[39m \u001b[38;5;28;01mif\u001b[39;00m embedded_color \u001b[38;5;28;01melse\u001b[39;00m \u001b[38;5;28mself\u001b[39m\u001b[38;5;241m.\u001b[39mfontmode\n\u001b[1;32m    673\u001b[0m bbox \u001b[38;5;241m=\u001b[39m font\u001b[38;5;241m.\u001b[39mgetbbox(\n\u001b[1;32m    674\u001b[0m     text, mode, direction, features, language, stroke_width, anchor\n\u001b[1;32m    675\u001b[0m )\n",
      "\u001b[0;31mValueError\u001b[0m: Only supported for TrueType fonts"
     ]
    }
   ],
   "source": [
    "df_nube = df_logs.copy()\n",
    "\n",
    "textos_memes = df_nube.loc[(df_ranking[\"Operación\"] == 'Generacion meme')]\n",
    "\n",
    "lista_textos = textos_memes['Textos'].unique()\n",
    "\n",
    "lista_textos=str(lista_textos)\n",
    "\n",
    "# Define a function to plot word cloud\n",
    "def plot_cloud(wordcloud):\n",
    "    # Set figure size\n",
    "    plt.figure(figsize=(40, 30))\n",
    "    # Display image\n",
    "    plt.imshow(wordcloud)\n",
    "    # No axis details\n",
    "    plt.axis(\"off\")\n",
    "    \n",
    "# Generate wordcloud\n",
    "wordcloud = WordCloud(width = 300, height = 200, \n",
    "                background_color='white').generate(lista_textos)\n",
    "# Plot\n",
    "plot_cloud(wordcloud)"
   ]
  },
  {
   "cell_type": "code",
   "execution_count": 27,
   "metadata": {},
   "outputs": [
    {
     "ename": "ValueError",
     "evalue": "Only supported for TrueType fonts",
     "output_type": "error",
     "traceback": [
      "\u001b[0;31m---------------------------------------------------------------------------\u001b[0m",
      "\u001b[0;31mValueError\u001b[0m                                Traceback (most recent call last)",
      "Cell \u001b[0;32mIn[27], line 20\u001b[0m\n\u001b[1;32m     16\u001b[0m     plt\u001b[38;5;241m.\u001b[39maxis(\u001b[38;5;124m\"\u001b[39m\u001b[38;5;124moff\u001b[39m\u001b[38;5;124m\"\u001b[39m)\n\u001b[1;32m     18\u001b[0m \u001b[38;5;66;03m# Generate wordcloud\u001b[39;00m\n\u001b[1;32m     19\u001b[0m wordcloud \u001b[38;5;241m=\u001b[39m \u001b[43mWordCloud\u001b[49m\u001b[43m(\u001b[49m\u001b[43mwidth\u001b[49m\u001b[43m \u001b[49m\u001b[38;5;241;43m=\u001b[39;49m\u001b[43m \u001b[49m\u001b[38;5;241;43m300\u001b[39;49m\u001b[43m,\u001b[49m\u001b[43m \u001b[49m\u001b[43mheight\u001b[49m\u001b[43m \u001b[49m\u001b[38;5;241;43m=\u001b[39;49m\u001b[43m \u001b[49m\u001b[38;5;241;43m200\u001b[39;49m\u001b[43m,\u001b[49m\u001b[43m \u001b[49m\n\u001b[0;32m---> 20\u001b[0m \u001b[43m                \u001b[49m\u001b[43mbackground_color\u001b[49m\u001b[38;5;241;43m=\u001b[39;49m\u001b[38;5;124;43m'\u001b[39;49m\u001b[38;5;124;43mwhite\u001b[39;49m\u001b[38;5;124;43m'\u001b[39;49m\u001b[43m)\u001b[49m\u001b[38;5;241;43m.\u001b[39;49m\u001b[43mgenerate\u001b[49m\u001b[43m(\u001b[49m\u001b[43mlista_textos\u001b[49m\u001b[43m)\u001b[49m\n\u001b[1;32m     21\u001b[0m \u001b[38;5;66;03m# Plot\u001b[39;00m\n\u001b[1;32m     22\u001b[0m plot_cloud(wordcloud)\n",
      "File \u001b[0;32m~/.local/lib/python3.10/site-packages/wordcloud/wordcloud.py:639\u001b[0m, in \u001b[0;36mWordCloud.generate\u001b[0;34m(self, text)\u001b[0m\n\u001b[1;32m    624\u001b[0m \u001b[38;5;28;01mdef\u001b[39;00m \u001b[38;5;21mgenerate\u001b[39m(\u001b[38;5;28mself\u001b[39m, text):\n\u001b[1;32m    625\u001b[0m \u001b[38;5;250m    \u001b[39m\u001b[38;5;124;03m\"\"\"Generate wordcloud from text.\u001b[39;00m\n\u001b[1;32m    626\u001b[0m \n\u001b[1;32m    627\u001b[0m \u001b[38;5;124;03m    The input \"text\" is expected to be a natural text. If you pass a sorted\u001b[39;00m\n\u001b[0;32m   (...)\u001b[0m\n\u001b[1;32m    637\u001b[0m \u001b[38;5;124;03m    self\u001b[39;00m\n\u001b[1;32m    638\u001b[0m \u001b[38;5;124;03m    \"\"\"\u001b[39;00m\n\u001b[0;32m--> 639\u001b[0m     \u001b[38;5;28;01mreturn\u001b[39;00m \u001b[38;5;28;43mself\u001b[39;49m\u001b[38;5;241;43m.\u001b[39;49m\u001b[43mgenerate_from_text\u001b[49m\u001b[43m(\u001b[49m\u001b[43mtext\u001b[49m\u001b[43m)\u001b[49m\n",
      "File \u001b[0;32m~/.local/lib/python3.10/site-packages/wordcloud/wordcloud.py:621\u001b[0m, in \u001b[0;36mWordCloud.generate_from_text\u001b[0;34m(self, text)\u001b[0m\n\u001b[1;32m    604\u001b[0m \u001b[38;5;250m\u001b[39m\u001b[38;5;124;03m\"\"\"Generate wordcloud from text.\u001b[39;00m\n\u001b[1;32m    605\u001b[0m \n\u001b[1;32m    606\u001b[0m \u001b[38;5;124;03mThe input \"text\" is expected to be a natural text. If you pass a sorted\u001b[39;00m\n\u001b[0;32m   (...)\u001b[0m\n\u001b[1;32m    618\u001b[0m \u001b[38;5;124;03mself\u001b[39;00m\n\u001b[1;32m    619\u001b[0m \u001b[38;5;124;03m\"\"\"\u001b[39;00m\n\u001b[1;32m    620\u001b[0m words \u001b[38;5;241m=\u001b[39m \u001b[38;5;28mself\u001b[39m\u001b[38;5;241m.\u001b[39mprocess_text(text)\n\u001b[0;32m--> 621\u001b[0m \u001b[38;5;28;43mself\u001b[39;49m\u001b[38;5;241;43m.\u001b[39;49m\u001b[43mgenerate_from_frequencies\u001b[49m\u001b[43m(\u001b[49m\u001b[43mwords\u001b[49m\u001b[43m)\u001b[49m\n\u001b[1;32m    622\u001b[0m \u001b[38;5;28;01mreturn\u001b[39;00m \u001b[38;5;28mself\u001b[39m\n",
      "File \u001b[0;32m~/.local/lib/python3.10/site-packages/wordcloud/wordcloud.py:453\u001b[0m, in \u001b[0;36mWordCloud.generate_from_frequencies\u001b[0;34m(self, frequencies, max_font_size)\u001b[0m\n\u001b[1;32m    451\u001b[0m     font_size \u001b[38;5;241m=\u001b[39m \u001b[38;5;28mself\u001b[39m\u001b[38;5;241m.\u001b[39mheight\n\u001b[1;32m    452\u001b[0m \u001b[38;5;28;01melse\u001b[39;00m:\n\u001b[0;32m--> 453\u001b[0m     \u001b[38;5;28;43mself\u001b[39;49m\u001b[38;5;241;43m.\u001b[39;49m\u001b[43mgenerate_from_frequencies\u001b[49m\u001b[43m(\u001b[49m\u001b[38;5;28;43mdict\u001b[39;49m\u001b[43m(\u001b[49m\u001b[43mfrequencies\u001b[49m\u001b[43m[\u001b[49m\u001b[43m:\u001b[49m\u001b[38;5;241;43m2\u001b[39;49m\u001b[43m]\u001b[49m\u001b[43m)\u001b[49m\u001b[43m,\u001b[49m\n\u001b[1;32m    454\u001b[0m \u001b[43m                                   \u001b[49m\u001b[43mmax_font_size\u001b[49m\u001b[38;5;241;43m=\u001b[39;49m\u001b[38;5;28;43mself\u001b[39;49m\u001b[38;5;241;43m.\u001b[39;49m\u001b[43mheight\u001b[49m\u001b[43m)\u001b[49m\n\u001b[1;32m    455\u001b[0m     \u001b[38;5;66;03m# find font sizes\u001b[39;00m\n\u001b[1;32m    456\u001b[0m     sizes \u001b[38;5;241m=\u001b[39m [x[\u001b[38;5;241m1\u001b[39m] \u001b[38;5;28;01mfor\u001b[39;00m x \u001b[38;5;129;01min\u001b[39;00m \u001b[38;5;28mself\u001b[39m\u001b[38;5;241m.\u001b[39mlayout_]\n",
      "File \u001b[0;32m~/.local/lib/python3.10/site-packages/wordcloud/wordcloud.py:508\u001b[0m, in \u001b[0;36mWordCloud.generate_from_frequencies\u001b[0;34m(self, frequencies, max_font_size)\u001b[0m\n\u001b[1;32m    505\u001b[0m transposed_font \u001b[38;5;241m=\u001b[39m ImageFont\u001b[38;5;241m.\u001b[39mTransposedFont(\n\u001b[1;32m    506\u001b[0m     font, orientation\u001b[38;5;241m=\u001b[39morientation)\n\u001b[1;32m    507\u001b[0m \u001b[38;5;66;03m# get size of resulting text\u001b[39;00m\n\u001b[0;32m--> 508\u001b[0m box_size \u001b[38;5;241m=\u001b[39m \u001b[43mdraw\u001b[49m\u001b[38;5;241;43m.\u001b[39;49m\u001b[43mtextbbox\u001b[49m\u001b[43m(\u001b[49m\u001b[43m(\u001b[49m\u001b[38;5;241;43m0\u001b[39;49m\u001b[43m,\u001b[49m\u001b[43m \u001b[49m\u001b[38;5;241;43m0\u001b[39;49m\u001b[43m)\u001b[49m\u001b[43m,\u001b[49m\u001b[43m \u001b[49m\u001b[43mword\u001b[49m\u001b[43m,\u001b[49m\u001b[43m \u001b[49m\u001b[43mfont\u001b[49m\u001b[38;5;241;43m=\u001b[39;49m\u001b[43mtransposed_font\u001b[49m\u001b[43m,\u001b[49m\u001b[43m \u001b[49m\u001b[43manchor\u001b[49m\u001b[38;5;241;43m=\u001b[39;49m\u001b[38;5;124;43m\"\u001b[39;49m\u001b[38;5;124;43mlt\u001b[39;49m\u001b[38;5;124;43m\"\u001b[39;49m\u001b[43m)\u001b[49m\n\u001b[1;32m    509\u001b[0m \u001b[38;5;66;03m# find possible places using integral image:\u001b[39;00m\n\u001b[1;32m    510\u001b[0m result \u001b[38;5;241m=\u001b[39m occupancy\u001b[38;5;241m.\u001b[39msample_position(box_size[\u001b[38;5;241m3\u001b[39m] \u001b[38;5;241m+\u001b[39m \u001b[38;5;28mself\u001b[39m\u001b[38;5;241m.\u001b[39mmargin,\n\u001b[1;32m    511\u001b[0m                                    box_size[\u001b[38;5;241m2\u001b[39m] \u001b[38;5;241m+\u001b[39m \u001b[38;5;28mself\u001b[39m\u001b[38;5;241m.\u001b[39mmargin,\n\u001b[1;32m    512\u001b[0m                                    random_state)\n",
      "File \u001b[0;32m/usr/lib/python3/dist-packages/PIL/ImageDraw.py:671\u001b[0m, in \u001b[0;36mImageDraw.textbbox\u001b[0;34m(self, xy, text, font, anchor, spacing, align, direction, features, language, stroke_width, embedded_color)\u001b[0m\n\u001b[1;32m    669\u001b[0m     font \u001b[38;5;241m=\u001b[39m \u001b[38;5;28mself\u001b[39m\u001b[38;5;241m.\u001b[39mgetfont()\n\u001b[1;32m    670\u001b[0m \u001b[38;5;28;01mif\u001b[39;00m \u001b[38;5;129;01mnot\u001b[39;00m \u001b[38;5;28misinstance\u001b[39m(font, ImageFont\u001b[38;5;241m.\u001b[39mFreeTypeFont):\n\u001b[0;32m--> 671\u001b[0m     \u001b[38;5;28;01mraise\u001b[39;00m \u001b[38;5;167;01mValueError\u001b[39;00m(\u001b[38;5;124m\"\u001b[39m\u001b[38;5;124mOnly supported for TrueType fonts\u001b[39m\u001b[38;5;124m\"\u001b[39m)\n\u001b[1;32m    672\u001b[0m mode \u001b[38;5;241m=\u001b[39m \u001b[38;5;124m\"\u001b[39m\u001b[38;5;124mRGBA\u001b[39m\u001b[38;5;124m\"\u001b[39m \u001b[38;5;28;01mif\u001b[39;00m embedded_color \u001b[38;5;28;01melse\u001b[39;00m \u001b[38;5;28mself\u001b[39m\u001b[38;5;241m.\u001b[39mfontmode\n\u001b[1;32m    673\u001b[0m bbox \u001b[38;5;241m=\u001b[39m font\u001b[38;5;241m.\u001b[39mgetbbox(\n\u001b[1;32m    674\u001b[0m     text, mode, direction, features, language, stroke_width, anchor\n\u001b[1;32m    675\u001b[0m )\n",
      "\u001b[0;31mValueError\u001b[0m: Only supported for TrueType fonts"
     ]
    }
   ],
   "source": [
    "df_nube = df_logs.copy()\n",
    "\n",
    "textos_collage = df_nube.loc[(df_ranking[\"Operación\"] == 'Generación de collage')]\n",
    "\n",
    "lista_textos = textos_collage['Textos'].unique()\n",
    "\n",
    "lista_textos=str(lista_textos)\n",
    "\n",
    "# Define a function to plot word cloud\n",
    "def plot_cloud(wordcloud):\n",
    "    # Set figure size\n",
    "    plt.figure(figsize=(40, 30))\n",
    "    # Display image\n",
    "    plt.imshow(wordcloud)\n",
    "    # No axis details\n",
    "    plt.axis(\"off\")\n",
    "    \n",
    "# Generate wordcloud\n",
    "wordcloud = WordCloud(width = 300, height = 200, \n",
    "                background_color='white').generate(lista_textos)\n",
    "# Plot\n",
    "plot_cloud(wordcloud)"
   ]
  },
  {
   "cell_type": "markdown",
   "metadata": {},
   "source": [
    "### Inciso 7 archivo logs"
   ]
  },
  {
   "cell_type": "code",
   "execution_count": 33,
   "metadata": {},
   "outputs": [
    {
     "ename": "NameError",
     "evalue": "name 'data_dibujo' is not defined",
     "output_type": "error",
     "traceback": [
      "\u001b[0;31m---------------------------------------------------------------------------\u001b[0m",
      "\u001b[0;31mNameError\u001b[0m                                 Traceback (most recent call last)",
      "Cell \u001b[0;32mIn[33], line 7\u001b[0m\n\u001b[1;32m      3\u001b[0m serie\u001b[38;5;241m=\u001b[39minner_join\u001b[38;5;241m.\u001b[39mgroupby(inner_join[\u001b[38;5;124m\"\u001b[39m\u001b[38;5;124mGenero\u001b[39m\u001b[38;5;124m\"\u001b[39m])\n\u001b[1;32m      4\u001b[0m serie\n\u001b[0;32m----> 7\u001b[0m plt\u001b[38;5;241m.\u001b[39mpie(\u001b[43mdata_dibujo\u001b[49m, labels\u001b[38;5;241m=\u001b[39metiquetas, autopct\u001b[38;5;241m=\u001b[39m\u001b[38;5;124m'\u001b[39m\u001b[38;5;132;01m%1.1f\u001b[39;00m\u001b[38;5;132;01m%%\u001b[39;00m\u001b[38;5;124m'\u001b[39m,\n\u001b[1;32m      8\u001b[0m shadow\u001b[38;5;241m=\u001b[39m\u001b[38;5;28;01mTrue\u001b[39;00m, startangle\u001b[38;5;241m=\u001b[39m\u001b[38;5;241m120\u001b[39m, labeldistance\u001b[38;5;241m=\u001b[39m \u001b[38;5;241m1.1\u001b[39m)\n\u001b[1;32m      9\u001b[0m plt\u001b[38;5;241m.\u001b[39maxis(\u001b[38;5;124m'\u001b[39m\u001b[38;5;124mequal\u001b[39m\u001b[38;5;124m'\u001b[39m)\n\u001b[1;32m     10\u001b[0m plt\u001b[38;5;241m.\u001b[39mlegend(serie)\n",
      "\u001b[0;31mNameError\u001b[0m: name 'data_dibujo' is not defined"
     ]
    }
   ],
   "source": [
    "# tengo que hacer"
   ]
  }
 ],
 "metadata": {
  "kernelspec": {
   "display_name": "Python 3 (ipykernel)",
   "language": "python",
   "name": "python3"
  },
  "language_info": {
   "codemirror_mode": {
    "name": "ipython",
    "version": 3
   },
   "file_extension": ".py",
   "mimetype": "text/x-python",
   "name": "python",
   "nbconvert_exporter": "python",
   "pygments_lexer": "ipython3",
   "version": "3.11.2"
  }
 },
 "nbformat": 4,
 "nbformat_minor": 2
}
