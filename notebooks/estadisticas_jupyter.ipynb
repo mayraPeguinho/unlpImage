{
 "cells": [
  {
   "cell_type": "code",
   "execution_count": null,
   "metadata": {},
   "outputs": [],
   "source": [
    "import pandas as pd\n",
    "from matplotlib import pyplot as plt\n",
    "import sys\n",
    "import os\n",
    "sys.path.append(os.path.join(os.getcwd(), '..'))\n",
    "from rutas import archivo_imagenes_etiquetadas_csv\n",
    "from rutas import archivo_logs_csv\n",
    "from rutas import archivo_perfiles_json\n",
    "\n",
    "df_etiq=pd.read_csv(archivo_imagenes_etiquetadas_csv)\n",
    "df_logs=pd.read_csv(archivo_logs_csv)\n",
    "df_json=pd.read_json(archivo_perfiles_json)"
   ]
  },
  {
   "attachments": {},
   "cell_type": "markdown",
   "metadata": {},
   "source": [
    "#Porcentajes según el tipo de imagen (Archivo imagenes_etiquetadas.csv)\n",
    "\n",
    "\n",
    "- Se toma la columna 'mimetype' del dataFrame para obtener la extensión del tipo de imagen.\n",
    "- Aplico el método split('x') para dividir la cadena y asi obtener la extensión.\n",
    "- Realizo un conteo de cada extensión. Se generá una serie  con las extensiones  y sus respectiva   cantidad de ocurrencias.\n",
    "- Almaceno en la variable etiquetas los índices de la serie(extensiones).\n",
    "--Se usa la función plt.pie() para crear el gráfico de Torta.\n",
    "\n"
   ]
  },
  {
   "cell_type": "code",
   "execution_count": null,
   "metadata": {},
   "outputs": [],
   "source": [
    "\n",
    "extensiones = df_etiq['mimetype'].str.split('/').str[1].value_counts()\n",
    "etiquetas = extensiones.index\n",
    "\n",
    "plt.pie(extensiones, labels=etiquetas, autopct='%1.1f%%',\n",
    "        shadow=True, startangle=120, labeldistance=1.1)\n",
    "\n",
    "plt.axis('equal')\n",
    "plt.legend(etiquetas)\n",
    "plt.title(\"Tipos  de imágenes\")\n",
    "\n",
    "plt.show()"
   ]
  },
  {
   "attachments": {},
   "cell_type": "markdown",
   "metadata": {},
   "source": [
    "#Alto y ancho máximos (Archivo imagenes_etiquetadas.csv)\n",
    "\n",
    "- Se toma la columna 'resolucion' del DataFrame para obtener el alto y ancho de las imagenes.\n",
    "- Aplico el método split('x') para dividir la cadena y asi obtener el alto y el ancho de cada imagen.\n",
    "- Se hace la conversión a entero tanto del alto como del ancho y aplico la funcion max para obtener el máximo."
   ]
  },
  {
   "cell_type": "code",
   "execution_count": null,
   "metadata": {},
   "outputs": [],
   "source": [
    "maximo_alto = df_etiq['resolucion'].str.split('x').str[1].astype(int).max()\n",
    "maximo_ancho = df_etiq['resolucion'].str.split('x').str[0].astype(int).max()\n",
    "\n",
    "print(f\"Máximo alto: {maximo_alto}px\")\n",
    "print(f\"Máximo ancho: {maximo_ancho}px\")"
   ]
  },
  {
   "attachments": {},
   "cell_type": "markdown",
   "metadata": {},
   "source": [
    "#Relación entre el alto y ancho de las imágenes (Archivo imagenes_etiquetadas.csv).\n",
    "\n",
    "\n",
    "-Voy a usar los valores de la columna 'resolucion'.\n",
    "\n",
    "-Aplico el método split('x') para dividir la cadena y asi obtener el alto y el ancho de cada imagen. Luego convierto a entero en valor.\n",
    "\n",
    "-Se usa la función plt.scatter() para crear el gráfico de dispersión.\n",
    "\n",
    "-Se establece el ancho como los valores del eje x y el alto para los valores del eje y.\n",
    "\n",
    "-Tambien se establacen las etiquetas para cada eje (alto y ancho)."
   ]
  },
  {
   "cell_type": "code",
   "execution_count": null,
   "metadata": {},
   "outputs": [],
   "source": [
    "ancho = df_etiq['resolucion'].str.split('x').str[0].astype(int)\n",
    "alto = df_etiq['resolucion'].str.split('x').str[1].astype(int)\n",
    "\n",
    "plt.scatter(ancho, alto, c=\"DarkBlue\")\n",
    "plt.xlabel('Ancho')\n",
    "plt.ylabel('Alto')\n",
    "plt.title('Relación entre Ancho y Alto de las imágenes')\n",
    "plt.show()"
   ]
  },
  {
   "attachments": {},
   "cell_type": "markdown",
   "metadata": {},
   "source": [
    "#Cantidad de cambios realizados para cada dia de la semana en base a la úlltima actualización (Archivo imagenes_etiquetadas.csv).\n",
    "\n",
    "\n",
    "-Se trabaja con los datos de la columna 'ultima_actualización'.\n",
    "-Se hace una copia del DataFrame ya que se va modificar.\n",
    "-Se define un diccionario dias que mapea los nombres de los días en inglés a sus correspondientes en español.\n",
    "-con la función pd.to_datetime() convierto el timestamp a un objeto de fecha y hora de pandas.\n",
    "-Se agrega una nueva columna llamada \"dia\" al DataFrame cambios_segun_dia que contiene los nombres de los días en español. Con la funcion dt.day_name() se obtiene el nombre del dia de la semana y luego lo mapea al español con el diccionario definido anteriormente.\n",
    "-Se realiza un conteo para cada día\n",
    "-En la variable colores se define la lista de colores que tendrá el gráfico.\n",
    "-con plt.bar() creo el gráfico de barras,  con los nombres de los días en el eje x, y los conteos de cambios en el eje y."
   ]
  },
  {
   "cell_type": "code",
   "execution_count": null,
   "metadata": {},
   "outputs": [],
   "source": [
    "\n",
    "cambios_segun_dia = df_etiq.copy()\n",
    "dias = {\n",
    "    \"Monday\": \"Lunes\",\n",
    "    \"Tuesday\": \"Martes\",\n",
    "    \"Wednesday\": \"Miércoles\",\n",
    "    \"Thursday\": \"Jueves\",\n",
    "    \"Friday\": \"Viernes\",\n",
    "    \"Saturday\": \"Sábado\",\n",
    "    \"Sunday\": \"Domingo\"\n",
    "}\n",
    "cambios_segun_dia[\"ultima_actualizacion\"] = pd.to_datetime(df_etiq[\"ultima_actualizacion\"])\n",
    "cambios_segun_dia[\"dia\"]= cambios_segun_dia[\"ultima_actualizacion\"].dt.day_name().map(dias)\n",
    "conteo_dias= cambios_segun_dia[\"dia\"].value_counts()\n",
    "\n",
    "\n",
    "colores = [\"green\",\"purple\",\"blue\",\"yellow\",\"red\", \"black\", \"orange\"]\n",
    "\n",
    "plt.bar(conteo_dias.index, conteo_dias.values, color=colores)\n",
    "plt.xlabel('Día de la semana')\n",
    "plt.ylabel('Cambios')\n",
    "plt.title('Cantidad de cambios realizados por día de la semana')\n",
    "plt.show()"
   ]
  },
  {
   "attachments": {},
   "cell_type": "markdown",
   "metadata": {},
   "source": [
    "#Inciso 7 de archivo de imagenes etiquetadas\n",
    "\n",
    "Tags más utilizados\n",
    "\n",
    "- Se hace una copia del DataFrame obtenido del archivo de imagenes etiquetadas, ya que va a ser modificado.\n",
    "- Se aplica el método str.split(',') a la columna 'tags' del DataFrame para dividir la cadena de tags de cada imagen.\n",
    "- Luego nos quedamos con sola la columna 'tags' del DataFrame, se le aplica el metodo explode() para separar cada uno de los tags en una fila diferente y lo devuelve en una serie, se aplica el método strip(' ') para eliminar espacios que esten demas.\n",
    "- Se aplica el método value_counts() para contabalizar cada uno de los tags, retorna una serie con cada tag y la cantidad de veces que apareció.\n",
    "- Se aplica la función reset_index(name=\"Usos\") para convertir la serie en un DataFrame y que se visualice de mejor manera.\n",
    "- Por ultimo se cambió el nombre de la columna 'tags' por 'Tags' con la funcion rename."
   ]
  },
  {
   "cell_type": "code",
   "execution_count": null,
   "metadata": {},
   "outputs": [],
   "source": [
    "df_7=df_etiq.copy()\n",
    "\n",
    "df_7['tags']=df_7['tags'].str.split(',')\n",
    "df_7=df_7['tags'].explode().str.strip(' ').value_counts().reset_index(name=\"Usos\")\n",
    "df_7=df_7.rename(columns={'tags': 'Tags'})\n",
    "\n",
    "print(\"Tags más utilizados\")\n",
    "df_7"
   ]
  },
  {
   "attachments": {},
   "cell_type": "markdown",
   "metadata": {},
   "source": [
    "#Inciso 8 de archivo de imagenes etiquetadas\n",
    "    Imagenes promedio\n",
    "\n",
    "- Se trae el DataFrame obtenido del archivo de imagenes etiquetadas con el nombre de la columna 'ultimo_perfil' modificado a 'Usuario'. Esto para poder realizar el merge\n",
    "- Se hace un merge con el DataFrame ya mencionado y el DataFrame del archivo json de perfiles con la modalidad \"outer\" para incluir aquellos usuarios que no hayan modificado imagenes.\n",
    "- Se le aplica la funcion groupby() para agrupar por Usuario, y a la columna tamaño le aplico la funcion mean() para sacar los promedio de los tamaños para cada usuario, con fillna(0) le agrego un 0 a aquellos usuarios que nunca hayan modificado una imagen y con round(2) solo muestro dos decimales de esta columna.\n",
    "- Como nos retorna una serie, se le aplica reset_index() para volver a la estructura DataFrame."
   ]
  },
  {
   "cell_type": "code",
   "execution_count": null,
   "metadata": {},
   "outputs": [],
   "source": [
    "df_8=df_etiq.rename(columns={'ultimo_perfil': 'Usuario'})\n",
    "\n",
    "outer_join=pd.merge(df_8,df_json,on=\"Usuario\",how=\"outer\")\n",
    "tabla_final=outer_join.groupby(outer_join[\"Usuario\"])[\"tamaño\"].mean().fillna(0).round(2).reset_index(name=\"Tamaño (MB)\")\n",
    "\n",
    "print('Imagenes promedio')\n",
    "tabla_final"
   ]
  },
  {
   "attachments": {},
   "cell_type": "markdown",
   "metadata": {},
   "source": [
    "#Inciso 1, archivo logs\n",
    "\n",
    "Operaciones por dias de la semana\n",
    "\n",
    "- Se crea un DataFrame con cada uno de los dias de la semana representados como enteros, siendo 0 el lunes. Esto se hace para que en el caso de en un dia de la semana no haya habido usos de la aplicacion, aun asi se contabilice.\n",
    "- Se crea una copia del DataFrame del archivo de logs ya que se va a modificar.\n",
    "- A esta copia se le agrega la columna 'Dia', en la cual se va a almacenar el resultado de aplicarle la funcion datetime.fromtimestamp() a cada uno de los contenidos de la columna\n",
    "'Fecha y Hora' que tiene almacenada el mymetype de cuando se ejecutó la acción. Esto va a retornar la fecha.\n",
    "- Luego con el metodo groupby() y pasandole como parametro df_logs1['Dia'].dt.day_of_week, agrupo cada dia de la semana correspondiente a cada fecha y aplicando size() obtengo una serie que muestra el tamaño de cada dia.\n",
    "- Como luego se hará un merge(), la serie necesita ser nombrada, se hace con df_logs1.name=\n",
    "- Luego se hace el merge del dataframe creado al principio y de la serie resultante, con la modalidad \"outer\" y sobre \"Dia\" para que incluya aquellos dias en los que no se haya usado la aplicacion.\n",
    "- A la columna 'Cantidad' se le aplica la funcion fillna(0) para que llene aquellos lugares Na, con 0, y astype(int) para convertir los numeros a integer, retorna una serie.\n",
    "- Se cambian los indices de la serie por los nombres de los dias de la semana.\n",
    "- Se establecen los colores que se mostraran para cada grafico de barra.\n",
    "- Luego se arma el grafico con la serie y se establece el titulo y los nombres de los ejes."
   ]
  },
  {
   "cell_type": "code",
   "execution_count": null,
   "metadata": {},
   "outputs": [],
   "source": [
    "from datetime import datetime\n",
    "df_dias =pd.DataFrame({'Dia': [0, 1, 2, 3, 4, 5, 6]})\n",
    "\n",
    "df_logs1=df_logs.copy()\n",
    "df_logs1['Dia']=df_logs1['Fecha y Hora'].apply(lambda x: datetime.fromtimestamp(x))\n",
    "df_logs1=df_logs1.groupby(df_logs1['Dia'].dt.day_of_week).size()\n",
    "df_logs1.name='Cantidad'\n",
    "\n",
    "outer_join=pd.merge(df_dias,df_logs1,on='Dia',how=\"outer\")\n",
    "outer_join=outer_join['Cantidad'].fillna(0).astype(int)\n",
    "\n",
    "outer_join.index=['Lunes','Martes','Miércoles','Jueves','Viernes','Sábado','Domingo']\n",
    "\n",
    "colores = ['red', 'green', 'skyblue', 'pink', 'gray', 'yellow', 'brown']\n",
    "outer_join.plot.bar(color=colores)\n",
    "plt.title('Operaciones por dias de la semana')\n",
    "plt.xlabel('Dia de la semana')\n",
    "plt.ylabel('Operaciones')\n",
    "plt.show()"
   ]
  },
  {
   "attachments": {},
   "cell_type": "markdown",
   "metadata": {},
   "source": [
    "#Inciso 2, archivo logs\n",
    "\n",
    "Uso de la aplicación por género\n",
    "\n",
    "- Se hace una copia del DatFrame del archivo de logs, y se le cambia el nombre a la columna 'Nick' por 'Usuario'\n",
    "- Se hace un merge con el DataFrame del json de usuarios y el DataFrame obtenido anteriormente, por la columna \"Usuario\" y del modo \"inner\" para que solo tenga en cuenta aquellos usuarios que si realizaron cambios en la aplicacion.\n",
    "- Luego se los agrupa por genero y se aplica la funcion count() que devuelve la cantidad de operaciones por genero en una serie.\n",
    "- Luego armamos el grafico de torta con matplotlib y la serie usando los indices para la legenda, y lo almacenado en cada indice para la torta en si."
   ]
  },
  {
   "cell_type": "code",
   "execution_count": null,
   "metadata": {},
   "outputs": [],
   "source": [
    "df_logs2=df_logs.copy().rename(columns={'Nick': 'Usuario'})\n",
    "inner_join=pd.merge(df_logs2,df_json,on=\"Usuario\",how=\"inner\")\n",
    "serie=inner_join.groupby(inner_join[\"Genero\"])[\"Genero\"].count()\n",
    "\n",
    "plt.pie(serie,autopct='%1.1f%%',startangle=120, labeldistance=1.1)\n",
    "plt.axis('equal')\n",
    "plt.legend(serie.index)\n",
    "plt.title(\"Uso de aplicación por género\")\n",
    "plt.show()"
   ]
  }
 ],
 "metadata": {
  "kernelspec": {
   "display_name": "Python 3",
   "language": "python",
   "name": "python3"
  },
  "language_info": {
   "codemirror_mode": {
    "name": "ipython",
    "version": 3
   },
   "file_extension": ".py",
   "mimetype": "text/x-python",
   "name": "python",
   "nbconvert_exporter": "python",
   "pygments_lexer": "ipython3",
   "version": "3.11.2"
  },
  "orig_nbformat": 4
 },
 "nbformat": 4,
 "nbformat_minor": 2
}
