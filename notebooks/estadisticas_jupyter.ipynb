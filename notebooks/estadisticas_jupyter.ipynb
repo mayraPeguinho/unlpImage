{
 "cells": [
  {
   "cell_type": "code",
   "execution_count": 7,
   "metadata": {},
   "outputs": [],
   "source": [
    "import pandas as pd\n",
    "import matplotlib \n",
    "from matplotlib import pyplot as plt\n",
    "import sys\n",
    "import os\n",
    "sys.path.append(os.path.join(os.getcwd(), '..'))\n",
    "from rutas import archivo_imagenes_etiquetadas_csv\n",
    "from rutas import archivo_logs_csv\n",
    "from rutas import archivo_perfiles_json\n",
    "\n",
    "df=pd.read_csv(archivo_imagenes_etiquetadas_csv)"
   ]
  },
  {
   "cell_type": "code",
   "execution_count": null,
   "metadata": {},
   "outputs": [],
   "source": [
    "#inciso 1\n",
    "df['extension'] = df['mimetype'].str.split('/').str[1]\n",
    "\n",
    "porcentajes = df['extension'].value_counts()\n",
    "etiquetas = porcentajes.index\n",
    "\n",
    "# Generar el gráfico de torta\n",
    "plt.pie(porcentajes, labels=etiquetas, autopct='%1.1f%%',\n",
    "        shadow=True, startangle=120, labeldistance=1.1)\n",
    "\n",
    "plt.axis('equal')\n",
    "plt.legend(etiquetas)\n",
    "plt.title(\"Porcentajes según el tipo de imagen\")\n",
    "\n",
    "plt.show()\n"
   ]
  },
  {
   "cell_type": "code",
   "execution_count": null,
   "metadata": {},
   "outputs": [],
   "source": [
    "#inciso 7\n",
    "df_7=df.copy()\n",
    "df_7['tags']=df_7['tags'].str.split(',')\n",
    "df_7=df_7['tags'].explode().str.strip(' ').reset_index()\n",
    "df_7=df_7.groupby('tags')['index'].count().reset_index()\n",
    "df_7=df_7.rename(columns={'tags': 'Tags'})\n",
    "df_7=df_7.rename(columns={'index': 'Usos'})\n",
    "\n",
    "df_7\n"
   ]
  },
  {
   "cell_type": "code",
   "execution_count": null,
   "metadata": {},
   "outputs": [],
   "source": [
    "#item 8\n",
    "\n",
    "df_etiq=pd.read_csv(archivo_imagenes_etiquetadas_csv)\n",
    "df_etiq=df_etiq.rename(columns={'ultimo_perfil': 'Usuario'})\n",
    "\n",
    "df_json=pd.read_json(archivo_perfiles_json)\n",
    "\n",
    "outer_join=pd.merge(df_etiq,df_json,on=\"Usuario\",how=\"outer\")\n",
    "tabla_final=outer_join.groupby(outer_join[\"Usuario\"])[\"tamaño\"].sum().reset_index()\n",
    "\n",
    "tabla_final=tabla_final.rename(columns={'tamaño': 'Tamaño (MB)'})\n",
    "\n",
    "tabla_final"
   ]
  }
 ],
 "metadata": {
  "kernelspec": {
   "display_name": "Python 3",
   "language": "python",
   "name": "python3"
  },
  "language_info": {
   "codemirror_mode": {
    "name": "ipython",
    "version": 3
   },
   "file_extension": ".py",
   "mimetype": "text/x-python",
   "name": "python",
   "nbconvert_exporter": "python",
   "pygments_lexer": "ipython3",
   "version": "3.11.2"
  },
  "orig_nbformat": 4
 },
 "nbformat": 4,
 "nbformat_minor": 2
}
