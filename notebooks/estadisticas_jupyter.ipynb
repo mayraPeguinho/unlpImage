{
 "cells": [
  {
   "cell_type": "code",
   "execution_count": null,
   "metadata": {},
   "outputs": [],
   "source": [
    "import pandas as pd\n",
    "import matplotlib \n",
    "from matplotlib import pyplot as plt\n",
    "import sys\n",
    "import os\n",
    "sys.path.append(os.path.join(os.getcwd(), '..'))\n",
    "#sys.path.append(os.path.join(\"estadisticas_jupyter.ipynb\", '..')) #Preguntar\n",
    "from rutas import archivo_imagenes_etiquetadas_csv\n",
    "from rutas import archivo_logs_csv\n",
    "\n",
    "df=pd.read_csv(archivo_imagenes_etiquetadas_csv)\n",
    "df_logs=pd.read_csv(archivo_logs_csv)\n",
    "df"
   ]
  },
  {
   "cell_type": "code",
   "execution_count": null,
   "metadata": {},
   "outputs": [],
   "source": [
    "#inciso 1\n",
    "df['extension'] = df['mimetype'].str.split('/').str[1]\n",
    "\n",
    "porcentajes = df['extension'].value_counts()\n",
    "etiquetas = porcentajes.index\n",
    "\n",
    "# Generar el gráfico de torta\n",
    "plt.pie(porcentajes, labels=etiquetas, autopct='%1.1f%%',\n",
    "        shadow=True, startangle=120, labeldistance=1.1)\n",
    "\n",
    "plt.axis('equal')\n",
    "plt.legend(etiquetas)\n",
    "plt.title(\"Porcentajes según el tipo de imagen\")\n",
    "\n",
    "plt.show()\n"
   ]
  },
  {
   "cell_type": "code",
   "execution_count": null,
   "metadata": {},
   "outputs": [],
   "source": [
    "#item 8\n",
    "df.groupby('ultimo_perfil').sum()['tamaño']\n",
    "#me tengo que traer los nombres de todos los usuarios y hacer un merge"
   ]
  },
  {
   "cell_type": "code",
   "execution_count": null,
   "metadata": {},
   "outputs": [],
   "source": [
    "#item 7\n",
    "df2=df.copy()\n",
    "df2['tags']=df['tags'].str.split(',')\n",
    "df2['tags'].explode()"
   ]
  }
 ],
 "metadata": {
  "kernelspec": {
   "display_name": "Python 3",
   "language": "python",
   "name": "python3"
  },
  "language_info": {
   "codemirror_mode": {
    "name": "ipython",
    "version": 3
   },
   "file_extension": ".py",
   "mimetype": "text/x-python",
   "name": "python",
   "nbconvert_exporter": "python",
   "pygments_lexer": "ipython3",
   "version": "3.11.2"
  },
  "orig_nbformat": 4
 },
 "nbformat": 4,
 "nbformat_minor": 2
}
