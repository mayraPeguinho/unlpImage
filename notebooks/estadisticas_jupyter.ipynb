{
 "cells": [
  {
   "cell_type": "code",
   "execution_count": 105,
   "metadata": {},
   "outputs": [],
   "source": [
    "import pandas as pd\n",
    "from matplotlib import pyplot as plt\n",
    "import sys\n",
    "import os\n",
    "sys.path.append(os.path.join(os.getcwd(), '..'))\n",
    "from rutas import archivo_imagenes_etiquetadas_csv\n",
    "from rutas import archivo_logs_csv\n",
    "from rutas import archivo_perfiles_json\n",
    "\n",
    "df=pd.read_csv(archivo_imagenes_etiquetadas_csv)\n",
    "df_logs=pd.read_csv(archivo_logs_csv)"
   ]
  },
  {
   "attachments": {},
   "cell_type": "markdown",
   "metadata": {},
   "source": [
    "#Porcentajes según el tipo de imagen\n",
    "\n",
    "\n",
    "- Se toma la columna 'mimetype' del dataFrame para obtener la extensión del tipo de imagen.\n",
    "- Aplico el método split('x') para dividir la cadena y asi obtener la extensión.\n",
    "- Realizo un conteo de cada extensión. Se generá una serie  con las extensiones  y sus respectiva   cantidad de ocurrencias.\n",
    "- Almaceno en la variable etiquetas los índices de la serie(extensiones).\n",
    "\n"
   ]
  },
  {
   "cell_type": "code",
   "execution_count": null,
   "metadata": {},
   "outputs": [],
   "source": [
    "\n",
    "extensiones = df['mimetype'].str.split('/').str[1].value_counts()\n",
    "etiquetas = extensiones.index\n",
    "\n",
    "# Generar el gráfico de torta\n",
    "plt.pie(extensiones, labels=etiquetas, autopct='%1.1f%%',\n",
    "        shadow=True, startangle=120, labeldistance=1.1)\n",
    "\n",
    "plt.axis('equal')\n",
    "plt.legend(etiquetas)\n",
    "plt.title(\"Tipos  de imágenes\")\n",
    "\n",
    "plt.show()\n",
    "df"
   ]
  },
  {
   "attachments": {},
   "cell_type": "markdown",
   "metadata": {},
   "source": [
    "#Alto y ancho máximos\n",
    "\n",
    "- Se toma la columna 'resolucion' del DataFrame para obtener el alto y ancho de las imagenes.\n",
    "- Aplico el método split('x') para dividir la cadena y asi obtener el alto y el ancho de cada imagen.\n",
    "- Se hace la conversión a entero tanto del alto como del ancho y aplico la funcion max para obtener el máximo."
   ]
  },
  {
   "cell_type": "code",
   "execution_count": null,
   "metadata": {},
   "outputs": [],
   "source": [
    "maximo_alto = df['resolucion'].str.split('x').str[1].astype(int).max()\n",
    "maximo_ancho = df['resolucion'].str.split('x').str[0].astype(int).max()\n",
    "\n",
    "print(f\"Máximo alto: {maximo_alto}px\")\n",
    "print(f\"Máximo ancho: {maximo_ancho}px\")"
   ]
  },
  {
   "cell_type": "code",
   "execution_count": null,
   "metadata": {},
   "outputs": [],
   "source": [
    "#inciso 7, archivo imagenes clasificadas\n",
    "#Tags mas utilizados\n",
    "\n",
    "df_7=df.copy()\n",
    "df_7['tags']=df_7['tags'].str.split(',')\n",
    "df_7=df_7['tags'].explode().str.strip(' ').reset_index()\n",
    "df_7=df_7.groupby('tags')['index'].count().reset_index(name=\"Usos\")\n",
    "df_7=df_7.rename(columns={'tags': 'Tags'})\n",
    "\n",
    "print(\"Tags más utilizados\")\n",
    "df_7"
   ]
  },
  {
   "cell_type": "code",
   "execution_count": 109,
   "metadata": {},
   "outputs": [
    {
     "name": "stdout",
     "output_type": "stream",
     "text": [
      "Imagenes promedio\n"
     ]
    },
    {
     "data": {
      "text/html": [
       "<div>\n",
       "<style scoped>\n",
       "    .dataframe tbody tr th:only-of-type {\n",
       "        vertical-align: middle;\n",
       "    }\n",
       "\n",
       "    .dataframe tbody tr th {\n",
       "        vertical-align: top;\n",
       "    }\n",
       "\n",
       "    .dataframe thead th {\n",
       "        text-align: right;\n",
       "    }\n",
       "</style>\n",
       "<table border=\"1\" class=\"dataframe\">\n",
       "  <thead>\n",
       "    <tr style=\"text-align: right;\">\n",
       "      <th></th>\n",
       "      <th>Usuario</th>\n",
       "      <th>Tamaño (MB)</th>\n",
       "    </tr>\n",
       "  </thead>\n",
       "  <tbody>\n",
       "    <tr>\n",
       "      <th>0</th>\n",
       "      <td>Mariana</td>\n",
       "      <td>0.85</td>\n",
       "    </tr>\n",
       "    <tr>\n",
       "      <th>1</th>\n",
       "      <td>Martin</td>\n",
       "      <td>1.06</td>\n",
       "    </tr>\n",
       "    <tr>\n",
       "      <th>2</th>\n",
       "      <td>Rogelio</td>\n",
       "      <td>0.00</td>\n",
       "    </tr>\n",
       "  </tbody>\n",
       "</table>\n",
       "</div>"
      ],
      "text/plain": [
       "   Usuario  Tamaño (MB)\n",
       "0  Mariana         0.85\n",
       "1   Martin         1.06\n",
       "2  Rogelio         0.00"
      ]
     },
     "execution_count": 109,
     "metadata": {},
     "output_type": "execute_result"
    }
   ],
   "source": [
    "#inciso 8, archivo imagenes clasificadas\n",
    "#Imagenes promedio\n",
    "\n",
    "df_etiq=pd.read_csv(archivo_imagenes_etiquetadas_csv)\n",
    "df_etiq=df_etiq.rename(columns={'ultimo_perfil': 'Usuario'})\n",
    "\n",
    "df_json=pd.read_json(archivo_perfiles_json)\n",
    "\n",
    "outer_join=pd.merge(df_etiq,df_json,on=\"Usuario\",how=\"outer\")\n",
    "tabla_final=outer_join.groupby(outer_join[\"Usuario\"])[\"tamaño\"].sum().reset_index(name=\"Tamaño (MB)\")\n",
    "\n",
    "print('Imagenes promedio')\n",
    "tabla_final"
   ]
  },
  {
   "cell_type": "code",
   "execution_count": null,
   "metadata": {},
   "outputs": [],
   "source": [
    "#inciso 1, archivo logs\n",
    "#Operaciones por dias de la semana\n",
    "\n",
    "from datetime import datetime\n",
    "df_dias =pd.DataFrame({'Dia': [0, 1, 2, 3, 4, 5, 6]})\n",
    "\n",
    "df_logs1=df_logs.copy()\n",
    "df_logs1['Dia']=df_logs1['Fecha y Hora'].apply(lambda x: datetime.fromtimestamp(x))\n",
    "df_logs1=df_logs1.groupby(df_logs1['Dia'].dt.day_of_week).size().reset_index(name=\"Cantidad\")\n",
    "\n",
    "outer_join=pd.merge(df_dias,df_logs1,on='Dia',how=\"outer\")\n",
    "outer_join=outer_join['Cantidad'].fillna(0).astype(int).reset_index()\n",
    "outer_join['index']=['Lunes','Martes','Miércoles','Jueves','Viernes','Sábado','Domingo']\n",
    "\n",
    "colores = ['red', 'green', 'skyblue', 'pink', 'gray', 'yellow', 'brown']\n",
    "\n",
    "plt.bar(outer_join[\"index\"], outer_join[\"Cantidad\"],color=colores)\n",
    "plt.title('Operaciones por dias de la semana')\n",
    "plt.xlabel('Dia de la semana')\n",
    "plt.ylabel('Operaciones')\n",
    "plt.show()"
   ]
  },
  {
   "cell_type": "code",
   "execution_count": null,
   "metadata": {},
   "outputs": [],
   "source": [
    "#inciso 2, archivos logs\n",
    "#Uso por genero\n",
    "\n",
    "df_logs2=df_logs.copy().rename(columns={'Nick': 'Usuario'})\n",
    "inner_join=pd.merge(df_logs2,df_json,on=\"Usuario\",how=\"inner\")\n",
    "tabla_final=inner_join.groupby(inner_join[\"Genero\"])[\"Genero\"].count().reset_index(name=\"Cantidad\")\n",
    "\n",
    "plt.pie(tabla_final[\"Cantidad\"], labels=tabla_final[\"Genero\"], autopct='%1.1f%%',\n",
    "        shadow=False, startangle=120, labeldistance=1.1)\n",
    "plt.axis('equal')\n",
    "plt.legend(tabla_final[\"Genero\"])\n",
    "plt.title(\"Uso de aplicación por género\")\n",
    "\n",
    "plt.show()"
   ]
  }
 ],
 "metadata": {
  "kernelspec": {
   "display_name": "Python 3",
   "language": "python",
   "name": "python3"
  },
  "language_info": {
   "codemirror_mode": {
    "name": "ipython",
    "version": 3
   },
   "file_extension": ".py",
   "mimetype": "text/x-python",
   "name": "python",
   "nbconvert_exporter": "python",
   "pygments_lexer": "ipython3",
   "version": "3.11.2"
  },
  "orig_nbformat": 4
 },
 "nbformat": 4,
 "nbformat_minor": 2
}
