{
 "cells": [
  {
   "cell_type": "code",
   "execution_count": 220,
   "metadata": {},
   "outputs": [],
   "source": [
    "import pandas as pd\n",
    "from matplotlib import pyplot as plt\n",
    "import sys\n",
    "import os\n",
    "sys.path.append(os.path.join(os.getcwd(), '..'))\n",
    "from rutas import archivo_imagenes_etiquetadas_csv\n",
    "from rutas import archivo_logs_csv\n",
    "from rutas import archivo_perfiles_json\n",
    "\n",
    "df_etiq=pd.read_csv(archivo_imagenes_etiquetadas_csv)\n",
    "df_logs=pd.read_csv(archivo_logs_csv)\n",
    "df_json=pd.read_json(archivo_perfiles_json)"
   ]
  },
  {
   "attachments": {},
   "cell_type": "markdown",
   "metadata": {},
   "source": [
    "#Porcentajes según el tipo de imagen\n",
    "\n",
    "\n",
    "- Se toma la columna 'mimetype' del dataFrame para obtener la extensión del tipo de imagen.\n",
    "- Aplico el método split('x') para dividir la cadena y asi obtener la extensión.\n",
    "- Realizo un conteo de cada extensión. Se generá una serie  con las extensiones  y sus respectiva   cantidad de ocurrencias.\n",
    "- Almaceno en la variable etiquetas los índices de la serie(extensiones).\n",
    "\n"
   ]
  },
  {
   "cell_type": "code",
   "execution_count": 221,
   "metadata": {},
   "outputs": [
    {
     "data": {
      "image/png": "[encoded data removed]",
      "text/plain": [
       "<Figure size 640x480 with 1 Axes>"
      ]
     },
     "metadata": {},
     "output_type": "display_data"
    },
    {
     "data": {
      "text/html": [
       "<div>\n",
       "<style scoped>\n",
       "    .dataframe tbody tr th:only-of-type {\n",
       "        vertical-align: middle;\n",
       "    }\n",
       "\n",
       "    .dataframe tbody tr th {\n",
       "        vertical-align: top;\n",
       "    }\n",
       "\n",
       "    .dataframe thead th {\n",
       "        text-align: right;\n",
       "    }\n",
       "</style>\n",
       "<table border=\"1\" class=\"dataframe\">\n",
       "  <thead>\n",
       "    <tr style=\"text-align: right;\">\n",
       "      <th></th>\n",
       "      <th>ruta_imagen</th>\n",
       "      <th>descripcion</th>\n",
       "      <th>tags</th>\n",
       "      <th>resolucion</th>\n",
       "      <th>mimetype</th>\n",
       "      <th>tamaño</th>\n",
       "      <th>ultima_actualizacion</th>\n",
       "      <th>ultimo_perfil</th>\n",
       "    </tr>\n",
       "  </thead>\n",
       "  <tbody>\n",
       "    <tr>\n",
       "      <th>0</th>\n",
       "      <td>imagenes/repositorio_imagenes/vegetables-g2f51...</td>\n",
       "      <td>Sin desripción</td>\n",
       "      <td>Frutas, Caja</td>\n",
       "      <td>1920x1313</td>\n",
       "      <td>image/jpeg</td>\n",
       "      <td>0.42</td>\n",
       "      <td>2023-06-09 16:37:04.907152</td>\n",
       "      <td>Martin</td>\n",
       "    </tr>\n",
       "    <tr>\n",
       "      <th>1</th>\n",
       "      <td>imagenes/repositorio_imagenes/blueberries-g908...</td>\n",
       "      <td>Sin desripción</td>\n",
       "      <td>Azul, Fruta</td>\n",
       "      <td>1920x1280</td>\n",
       "      <td>image/jpeg</td>\n",
       "      <td>0.55</td>\n",
       "      <td>2023-06-09 16:37:35.360674</td>\n",
       "      <td>Martin</td>\n",
       "    </tr>\n",
       "    <tr>\n",
       "      <th>2</th>\n",
       "      <td>imagenes/repositorio_imagenes/img7.jpg</td>\n",
       "      <td>Sin desripción</td>\n",
       "      <td>Espacio</td>\n",
       "      <td>800x667</td>\n",
       "      <td>image/jpeg</td>\n",
       "      <td>0.09</td>\n",
       "      <td>2023-06-09 16:37:45.323645</td>\n",
       "      <td>Martin</td>\n",
       "    </tr>\n",
       "    <tr>\n",
       "      <th>3</th>\n",
       "      <td>imagenes/repositorio_imagenes/cherries-g17c80d...</td>\n",
       "      <td>Sin desripción</td>\n",
       "      <td>Fruta, Rojo</td>\n",
       "      <td>1920x1252</td>\n",
       "      <td>image/jpeg</td>\n",
       "      <td>0.50</td>\n",
       "      <td>2023-06-09 16:38:21.443583</td>\n",
       "      <td>Mariana</td>\n",
       "    </tr>\n",
       "    <tr>\n",
       "      <th>4</th>\n",
       "      <td>imagenes/repositorio_imagenes/onions-g7702794c...</td>\n",
       "      <td>Sin desripción</td>\n",
       "      <td>NaN</td>\n",
       "      <td>1920x1280</td>\n",
       "      <td>image/jpeg</td>\n",
       "      <td>0.35</td>\n",
       "      <td>2023-06-09 16:38:32.129767</td>\n",
       "      <td>Mariana</td>\n",
       "    </tr>\n",
       "    <tr>\n",
       "      <th>5</th>\n",
       "      <td>imagenes/repositorio_imagenes/img3.jpg</td>\n",
       "      <td>Sin desripción</td>\n",
       "      <td>Galaxia</td>\n",
       "      <td>800x1422</td>\n",
       "      <td>image/jpeg</td>\n",
       "      <td>0.12</td>\n",
       "      <td>2023-06-11 15:02:53.055012</td>\n",
       "      <td>Damacio</td>\n",
       "    </tr>\n",
       "  </tbody>\n",
       "</table>\n",
       "</div>"
      ],
      "text/plain": [
       "                                         ruta_imagen     descripcion  \\\n",
       "0  imagenes/repositorio_imagenes/vegetables-g2f51...  Sin desripción   \n",
       "1  imagenes/repositorio_imagenes/blueberries-g908...  Sin desripción   \n",
       "2             imagenes/repositorio_imagenes/img7.jpg  Sin desripción   \n",
       "3  imagenes/repositorio_imagenes/cherries-g17c80d...  Sin desripción   \n",
       "4  imagenes/repositorio_imagenes/onions-g7702794c...  Sin desripción   \n",
       "5             imagenes/repositorio_imagenes/img3.jpg  Sin desripción   \n",
       "\n",
       "           tags resolucion    mimetype  tamaño        ultima_actualizacion  \\\n",
       "0  Frutas, Caja  1920x1313  image/jpeg    0.42  2023-06-09 16:37:04.907152   \n",
       "1   Azul, Fruta  1920x1280  image/jpeg    0.55  2023-06-09 16:37:35.360674   \n",
       "2       Espacio    800x667  image/jpeg    0.09  2023-06-09 16:37:45.323645   \n",
       "3   Fruta, Rojo  1920x1252  image/jpeg    0.50  2023-06-09 16:38:21.443583   \n",
       "4           NaN  1920x1280  image/jpeg    0.35  2023-06-09 16:38:32.129767   \n",
       "5       Galaxia   800x1422  image/jpeg    0.12  2023-06-11 15:02:53.055012   \n",
       "\n",
       "  ultimo_perfil  \n",
       "0        Martin  \n",
       "1        Martin  \n",
       "2        Martin  \n",
       "3       Mariana  \n",
       "4       Mariana  \n",
       "5       Damacio  "
      ]
     },
     "execution_count": 221,
     "metadata": {},
     "output_type": "execute_result"
    }
   ],
   "source": [
    "\n",
    "extensiones = df_etiq['mimetype'].str.split('/').str[1].value_counts()\n",
    "etiquetas = extensiones.index\n",
    "\n",
    "# Generar el gráfico de torta\n",
    "plt.pie(extensiones, labels=etiquetas, autopct='%1.1f%%',\n",
    "        shadow=True, startangle=120, labeldistance=1.1)\n",
    "\n",
    "plt.axis('equal')\n",
    "plt.legend(etiquetas)\n",
    "plt.title(\"Tipos  de imágenes\")\n",
    "\n",
    "plt.show()\n",
    "df_etiq"
   ]
  },
  {
   "attachments": {},
   "cell_type": "markdown",
   "metadata": {},
   "source": [
    "#Alto y ancho máximos\n",
    "\n",
    "- Se toma la columna 'resolucion' del DataFrame para obtener el alto y ancho de las imagenes.\n",
    "- Aplico el método split('x') para dividir la cadena y asi obtener el alto y el ancho de cada imagen.\n",
    "- Se hace la conversión a entero tanto del alto como del ancho y aplico la funcion max para obtener el máximo."
   ]
  },
  {
   "cell_type": "code",
   "execution_count": 222,
   "metadata": {},
   "outputs": [
    {
     "name": "stdout",
     "output_type": "stream",
     "text": [
      "Máximo alto: 1422px\n",
      "Máximo ancho: 1920px\n"
     ]
    }
   ],
   "source": [
    "maximo_alto = df_etiq['resolucion'].str.split('x').str[1].astype(int).max()\n",
    "maximo_ancho = df_etiq['resolucion'].str.split('x').str[0].astype(int).max()\n",
    "\n",
    "print(f\"Máximo alto: {maximo_alto}px\")\n",
    "print(f\"Máximo ancho: {maximo_ancho}px\")"
   ]
  },
  {
   "attachments": {},
   "cell_type": "markdown",
   "metadata": {},
   "source": [
    "#Inciso 7 de archivo de imagenes etiquetadas\n",
    "    Tags más utilizados\n",
    "\n",
    "- Se hace una copia del DataFrame obtenido del archivo de imagenes etiquetadas, ya que va a ser modificado.\n",
    "- Se aplica el método str.split(',') a la columna 'tags' del DataFrame para dividir la cadena de tags de cada imagen.\n",
    "- Luego nos quedamos con sola la columna 'tags' del DataFrame, se le aplica el metodo explode() para separar cada uno de los tags en una fila diferente y lo devuelve en una serie, se aplica el método strip(' ') para eliminar espacios que esten demas.\n",
    "- Se aplica el método value_counts() para contabalizar cada uno de los tags, retorna una serie con cada tag y la cantidad de veces que apareció.\n",
    "- Se aplica la función reset_index(name=\"Usos\") para convertir la serie en un DataFrame y que se visualice de mejor manera.\n",
    "- Por ultimo se cambió el nombre de la columna 'tags' por 'Tags' con la funcion rename."
   ]
  },
  {
   "cell_type": "code",
   "execution_count": 223,
   "metadata": {},
   "outputs": [
    {
     "name": "stdout",
     "output_type": "stream",
     "text": [
      "Tags más utilizados\n"
     ]
    },
    {
     "data": {
      "text/html": [
       "<div>\n",
       "<style scoped>\n",
       "    .dataframe tbody tr th:only-of-type {\n",
       "        vertical-align: middle;\n",
       "    }\n",
       "\n",
       "    .dataframe tbody tr th {\n",
       "        vertical-align: top;\n",
       "    }\n",
       "\n",
       "    .dataframe thead th {\n",
       "        text-align: right;\n",
       "    }\n",
       "</style>\n",
       "<table border=\"1\" class=\"dataframe\">\n",
       "  <thead>\n",
       "    <tr style=\"text-align: right;\">\n",
       "      <th></th>\n",
       "      <th>Tags</th>\n",
       "      <th>Usos</th>\n",
       "    </tr>\n",
       "  </thead>\n",
       "  <tbody>\n",
       "    <tr>\n",
       "      <th>0</th>\n",
       "      <td>Fruta</td>\n",
       "      <td>2</td>\n",
       "    </tr>\n",
       "    <tr>\n",
       "      <th>1</th>\n",
       "      <td>Frutas</td>\n",
       "      <td>1</td>\n",
       "    </tr>\n",
       "    <tr>\n",
       "      <th>2</th>\n",
       "      <td>Caja</td>\n",
       "      <td>1</td>\n",
       "    </tr>\n",
       "    <tr>\n",
       "      <th>3</th>\n",
       "      <td>Azul</td>\n",
       "      <td>1</td>\n",
       "    </tr>\n",
       "    <tr>\n",
       "      <th>4</th>\n",
       "      <td>Espacio</td>\n",
       "      <td>1</td>\n",
       "    </tr>\n",
       "    <tr>\n",
       "      <th>5</th>\n",
       "      <td>Rojo</td>\n",
       "      <td>1</td>\n",
       "    </tr>\n",
       "    <tr>\n",
       "      <th>6</th>\n",
       "      <td>Galaxia</td>\n",
       "      <td>1</td>\n",
       "    </tr>\n",
       "  </tbody>\n",
       "</table>\n",
       "</div>"
      ],
      "text/plain": [
       "      Tags  Usos\n",
       "0    Fruta     2\n",
       "1   Frutas     1\n",
       "2     Caja     1\n",
       "3     Azul     1\n",
       "4  Espacio     1\n",
       "5     Rojo     1\n",
       "6  Galaxia     1"
      ]
     },
     "execution_count": 223,
     "metadata": {},
     "output_type": "execute_result"
    }
   ],
   "source": [
    "df_7=df_etiq.copy()\n",
    "\n",
    "df_7['tags']=df_7['tags'].str.split(',')\n",
    "df_7=df_7['tags'].explode().str.strip(' ').value_counts().reset_index(name=\"Usos\")\n",
    "df_7=df_7.rename(columns={'tags': 'Tags'})\n",
    "\n",
    "print(\"Tags más utilizados\")\n",
    "df_7"
   ]
  },
  {
   "attachments": {},
   "cell_type": "markdown",
   "metadata": {},
   "source": [
    "#Inciso 8 de archivo de imagenes etiquetadas\n",
    "    Imagenes promedio\n"
   ]
  },
  {
   "cell_type": "code",
   "execution_count": 224,
   "metadata": {},
   "outputs": [
    {
     "name": "stdout",
     "output_type": "stream",
     "text": [
      "Imagenes promedio\n"
     ]
    },
    {
     "data": {
      "text/html": [
       "<div>\n",
       "<style scoped>\n",
       "    .dataframe tbody tr th:only-of-type {\n",
       "        vertical-align: middle;\n",
       "    }\n",
       "\n",
       "    .dataframe tbody tr th {\n",
       "        vertical-align: top;\n",
       "    }\n",
       "\n",
       "    .dataframe thead th {\n",
       "        text-align: right;\n",
       "    }\n",
       "</style>\n",
       "<table border=\"1\" class=\"dataframe\">\n",
       "  <thead>\n",
       "    <tr style=\"text-align: right;\">\n",
       "      <th></th>\n",
       "      <th>Usuario</th>\n",
       "      <th>Tamaño (MB)</th>\n",
       "    </tr>\n",
       "  </thead>\n",
       "  <tbody>\n",
       "    <tr>\n",
       "      <th>0</th>\n",
       "      <td>Damacio</td>\n",
       "      <td>0.12</td>\n",
       "    </tr>\n",
       "    <tr>\n",
       "      <th>1</th>\n",
       "      <td>Mariana</td>\n",
       "      <td>0.85</td>\n",
       "    </tr>\n",
       "    <tr>\n",
       "      <th>2</th>\n",
       "      <td>Martin</td>\n",
       "      <td>1.06</td>\n",
       "    </tr>\n",
       "    <tr>\n",
       "      <th>3</th>\n",
       "      <td>Rogelio</td>\n",
       "      <td>0.00</td>\n",
       "    </tr>\n",
       "  </tbody>\n",
       "</table>\n",
       "</div>"
      ],
      "text/plain": [
       "   Usuario  Tamaño (MB)\n",
       "0  Damacio         0.12\n",
       "1  Mariana         0.85\n",
       "2   Martin         1.06\n",
       "3  Rogelio         0.00"
      ]
     },
     "execution_count": 224,
     "metadata": {},
     "output_type": "execute_result"
    }
   ],
   "source": [
    "#inciso 8, archivo imagenes clasificadas\n",
    "#Imagenes promedio\n",
    "\n",
    "#Falta que calcule el promedio\n",
    "\n",
    "df_8=df_etiq.rename(columns={'ultimo_perfil': 'Usuario'})\n",
    "\n",
    "outer_join=pd.merge(df_8,df_json,on=\"Usuario\",how=\"outer\")\n",
    "tabla_final=outer_join.groupby(outer_join[\"Usuario\"])[\"tamaño\"].sum().reset_index(name=\"Tamaño (MB)\")\n",
    "\n",
    "print('Imagenes promedio')\n",
    "tabla_final"
   ]
  },
  {
   "attachments": {},
   "cell_type": "markdown",
   "metadata": {},
   "source": [
    "#Inciso 1, archivo logs\n",
    "    Operaciones por dias de la semana\n",
    "\n",
    "- Se crea un DataFrame con cada uno de los dias de la semana representados como enteros, siendo 0 el lunes. Esto se hace para que en el caso de en un dia de la semana no haya habido usos de la aplicacion, aun asi se contabilice.\n",
    "- Se crea una copia del DataFrame del archivo de logs ya que se va a modificar.\n",
    "- A esta copia se le agrega la columna 'Dia', en la cual se va a almacenar el resultado de aplicarle la funcion datetime.fromtimestamp() a cada uno de los contenidos de la columna\n",
    "'Fecha y Hora' que tiene almacenada el mymetype de cuando se ejecutó la acción. Esto va a retornar la fecha.\n",
    "- Luego con el metodo groupby() y pasandole como parametro df_logs1['Dia'].dt.day_of_week, agrupo cada dia de la semana correspondiente a cada fecha y aplicando size() obtengo una serie que muestra el tamaño de cada dia.\n",
    "- Como luego se hará un merge(), la serie necesita ser nombrada, se hace con df_logs1.name=\n",
    "- Luego se hace el merge del dataframe creado al principio y de la serie resultante, con la modalidad \"outer\" y sobre \"Dia\" para que incluya aquellos dias en los que no se haya usado la aplicacion.\n",
    "- A la columna 'Cantidad' se le aplica la funcion fillna(0) para que llene aquellos lugares Na, con 0, y astype(int) para convertir los numeros a integer, retorna una serie.\n",
    "- Se cambian los indices de la serie por los nombres de los dias de la semana.\n",
    "- Se establecen los colores que se mostraran para cada grafico de barra.\n",
    "- Luego se arma el grafico con la serie y se establece el titulo y los nombres de los ejes."
   ]
  },
  {
   "cell_type": "code",
   "execution_count": 225,
   "metadata": {},
   "outputs": [
    {
     "data": {
      "image/png": "[encoded data removed]",
      "text/plain": [
       "<Figure size 640x480 with 1 Axes>"
      ]
     },
     "metadata": {},
     "output_type": "display_data"
    }
   ],
   "source": [
    "\n",
    "\n",
    "from datetime import datetime\n",
    "df_dias =pd.DataFrame({'Dia': [0, 1, 2, 3, 4, 5, 6]})\n",
    "\n",
    "df_logs1=df_logs.copy()\n",
    "df_logs1['Dia']=df_logs1['Fecha y Hora'].apply(lambda x: datetime.fromtimestamp(x))\n",
    "df_logs1=df_logs1.groupby(df_logs1['Dia'].dt.day_of_week).size()\n",
    "df_logs1.name='Cantidad'\n",
    "\n",
    "outer_join=pd.merge(df_dias,df_logs1,on='Dia',how=\"outer\")\n",
    "outer_join=outer_join['Cantidad'].fillna(0).astype(int)\n",
    "\n",
    "outer_join.index=['Lunes','Martes','Miércoles','Jueves','Viernes','Sábado','Domingo']\n",
    "\n",
    "colores = ['red', 'green', 'skyblue', 'pink', 'gray', 'yellow', 'brown']\n",
    "outer_join.plot.bar(color=colores)\n",
    "plt.title('Operaciones por dias de la semana')\n",
    "plt.xlabel('Dia de la semana')\n",
    "plt.ylabel('Operaciones')\n",
    "plt.show()\n"
   ]
  },
  {
   "attachments": {},
   "cell_type": "markdown",
   "metadata": {},
   "source": [
    "#Inciso 1, archivo logs\n",
    "    Operaciones por dias de la semana\n",
    "\n",
    "- Se crea un DataFrame con cada uno de los dias de la semana representados como enteros, siendo 0 el lunes. Esto se hace para que en el caso de en un dia de la semana no haya habido usos de la aplicacion, aun asi se contabilice.\n",
    "- Se crea una copia del DataFrame del archivo de logs ya que se va a modificar.\n",
    "- A esta copia se le agrega la columna 'Dia', en la cual se va a almacenar el resultado de aplicarle la funcion datetime.fromtimestamp() a cada uno de los contenidos de la columna\n",
    "'Fecha y Hora' que tiene almacenada el mymetype de cuando se ejecutó la acción. Esto va a retornar la fecha.\n",
    "- Luego con el metodo groupby() y pasandole como parametro df_logs1['Dia'].dt.day_of_week, agrupo cada dia de la semana correspondiente a cada fecha y aplicando size() obtengo una serie que muestra el tamaño de cada dia.\n",
    "- Como luego se hará un merge(), la serie necesita ser nombrada, se hace con df_logs1.name=\n",
    "- Luego se hace el merge del dataframe creado al principio y de la serie resultante, con la modalidad \"outer\" y sobre \"Dia\" para que incluya aquellos dias en los que no se haya usado la aplicacion.\n",
    "- A la columna 'Cantidad' se le aplica la funcion fillna(0) para que llene aquellos lugares Na, con 0, y astype(int) para convertir los numeros a integer, retorna una serie.\n",
    "- Se cambian los indices de la serie por los nombres de los dias de la semana.\n",
    "- Se establecen los colores que se mostraran para cada grafico de barra.\n",
    "- Luego se arma el grafico con la serie y se establece el titulo y los nombres de los ejes."
   ]
  },
  {
   "cell_type": "code",
   "execution_count": 204,
   "metadata": {},
   "outputs": [
    {
     "data": {
      "image/png": "[encoded data removed]",
      "text/plain": [
       "<Figure size 640x480 with 1 Axes>"
      ]
     },
     "metadata": {},
     "output_type": "display_data"
    }
   ],
   "source": [
    "#inciso 2, archivos logs\n",
    "#Uso por genero\n",
    "\n",
    "df_logs2=df_logs.copy().rename(columns={'Nick': 'Usuario'})\n",
    "inner_join=pd.merge(df_logs2,df_json,on=\"Usuario\",how=\"inner\")\n",
    "tabla_final=inner_join.groupby(inner_join[\"Genero\"])[\"Genero\"].count().reset_index(name=\"Cantidad\")\n",
    "\n",
    "plt.pie(tabla_final[\"Cantidad\"], labels=tabla_final[\"Genero\"], autopct='%1.1f%%',\n",
    "        shadow=False, startangle=120, labeldistance=1.1)\n",
    "plt.axis('equal')\n",
    "plt.legend(tabla_final[\"Genero\"])\n",
    "plt.title(\"Uso de aplicación por género\")\n",
    "\n",
    "plt.show()"
   ]
  }
 ],
 "metadata": {
  "kernelspec": {
   "display_name": "Python 3",
   "language": "python",
   "name": "python3"
  },
  "language_info": {
   "codemirror_mode": {
    "name": "ipython",
    "version": 3
   },
   "file_extension": ".py",
   "mimetype": "text/x-python",
   "name": "python",
   "nbconvert_exporter": "python",
   "pygments_lexer": "ipython3",
   "version": "3.11.2"
  },
  "orig_nbformat": 4
 },
 "nbformat": 4,
 "nbformat_minor": 2
}
