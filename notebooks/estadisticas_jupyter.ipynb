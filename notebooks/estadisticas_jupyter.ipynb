{
 "cells": [
  {
   "cell_type": "code",
   "execution_count": 114,
   "metadata": {},
   "outputs": [],
   "source": [
    "import pandas as pd\n",
    "import matplotlib \n",
    "from matplotlib import pyplot as plt\n",
    "import sys\n",
    "import os\n",
    "sys.path.append(os.path.join(os.getcwd(), '..'))\n",
    "from rutas import archivo_imagenes_etiquetadas_csv\n",
    "from rutas import archivo_logs_csv\n",
    "from rutas import archivo_perfiles_json\n",
    "\n",
    "df=pd.read_csv(archivo_imagenes_etiquetadas_csv)"
   ]
  },
  {
   "cell_type": "code",
   "execution_count": null,
   "metadata": {},
   "outputs": [],
   "source": [
    "#inciso 1\n",
    "df['extension'] = df['mimetype'].str.split('/').str[1]\n",
    "\n",
    "porcentajes = df['extension'].value_counts()\n",
    "etiquetas = porcentajes.index\n",
    "\n",
    "# Generar el gráfico de torta\n",
    "plt.pie(porcentajes, labels=etiquetas, autopct='%1.1f%%',\n",
    "        shadow=True, startangle=120, labeldistance=1.1)\n",
    "\n",
    "plt.axis('equal')\n",
    "plt.legend(etiquetas)\n",
    "plt.title(\"Porcentajes según el tipo de imagen\")\n",
    "\n",
    "plt.show()\n"
   ]
  },
  {
   "cell_type": "code",
   "execution_count": null,
   "metadata": {},
   "outputs": [],
   "source": [
    "#inciso 7, archivo imagenes clasificadas\n",
    "#Tags mas utilizados\n",
    "\n",
    "df_7=df.copy()\n",
    "df_7['tags']=df_7['tags'].str.split(',')\n",
    "df_7=df_7['tags'].explode().str.strip(' ').reset_index()\n",
    "df_7=df_7.groupby('tags')['index'].count().reset_index()\n",
    "df_7=df_7.rename(columns={'tags': 'Tags'})\n",
    "df_7=df_7.rename(columns={'index': 'Usos'})\n",
    "\n",
    "print(\"Tags más utilizados\")\n",
    "df_7"
   ]
  },
  {
   "cell_type": "code",
   "execution_count": null,
   "metadata": {},
   "outputs": [],
   "source": [
    "#inciso 8, archivo imagenes clasificadas\n",
    "#Imagenes promedio\n",
    "\n",
    "df_etiq=pd.read_csv(archivo_imagenes_etiquetadas_csv)\n",
    "df_etiq=df_etiq.rename(columns={'ultimo_perfil': 'Usuario'})\n",
    "\n",
    "df_json=pd.read_json(archivo_perfiles_json)\n",
    "\n",
    "outer_join=pd.merge(df_etiq,df_json,on=\"Usuario\",how=\"outer\")\n",
    "tabla_final=outer_join.groupby(outer_join[\"Usuario\"])[\"tamaño\"].sum().reset_index()\n",
    "\n",
    "tabla_final=tabla_final.rename(columns={'tamaño': 'Tamaño (MB)'})\n",
    "\n",
    "print('Imagenes promedio')\n",
    "tabla_final"
   ]
  },
  {
   "cell_type": "code",
   "execution_count": null,
   "metadata": {},
   "outputs": [],
   "source": [
    "#inciso 1, archivo logs\n",
    "#Operaciones por dias de la semana\n",
    "from datetime import datetime\n",
    "\n",
    "df_logs=pd.read_csv(archivo_logs_csv)\n",
    "df_logs1=df_logs.copy()\n",
    "df_logs['Fecha']=df_logs['Fecha y Hora'].apply(lambda x: datetime.fromtimestamp(x))\n",
    "df_logs['Fecha']\n",
    "df_logs.groupby(df_logs['Fecha'].dt.day_name()).size()\n",
    "#Falta grafico de barras"
   ]
  },
  {
   "cell_type": "code",
   "execution_count": null,
   "metadata": {},
   "outputs": [],
   "source": [
    "#inciso 2, archivos logs\n",
    "#Uso por genero\n",
    "df_json\n",
    "df_logs2=df_logs.copy().rename(columns={'Nick': 'Usuario'})\n",
    "inner_join=pd.merge(df_logs2,df_json,on=\"Usuario\",how=\"inner\")\n",
    "tabla_final=inner_join.groupby(outer_join[\"Genero\"])[\"Genero\"].count()\n",
    "tabla_final\n",
    "#falta grafico de torta"
   ]
  }
 ],
 "metadata": {
  "kernelspec": {
   "display_name": "Python 3",
   "language": "python",
   "name": "python3"
  },
  "language_info": {
   "codemirror_mode": {
    "name": "ipython",
    "version": 3
   },
   "file_extension": ".py",
   "mimetype": "text/x-python",
   "name": "python",
   "nbconvert_exporter": "python",
   "pygments_lexer": "ipython3",
   "version": "3.11.2"
  },
  "orig_nbformat": 4
 },
 "nbformat": 4,
 "nbformat_minor": 2
}
